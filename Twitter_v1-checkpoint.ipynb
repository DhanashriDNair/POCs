{
 "cells": [
  {
   "cell_type": "code",
   "execution_count": 1,
   "metadata": {
    "colab": {},
    "colab_type": "code",
    "id": "pL8TTKsEXkMY"
   },
   "outputs": [
    {
     "ename": "ModuleNotFoundError",
     "evalue": "No module named 'tweepy'",
     "output_type": "error",
     "traceback": [
      "\u001b[1;31m---------------------------------------------------------------------------\u001b[0m",
      "\u001b[1;31mModuleNotFoundError\u001b[0m                       Traceback (most recent call last)",
      "\u001b[1;32m<ipython-input-1-5b29d49efc59>\u001b[0m in \u001b[0;36m<module>\u001b[1;34m\u001b[0m\n\u001b[1;32m----> 1\u001b[1;33m \u001b[1;32mimport\u001b[0m \u001b[0mtweepy\u001b[0m\u001b[1;33m\u001b[0m\u001b[1;33m\u001b[0m\u001b[0m\n\u001b[0m\u001b[0;32m      2\u001b[0m \u001b[1;32mimport\u001b[0m \u001b[0mjson\u001b[0m\u001b[1;33m\u001b[0m\u001b[1;33m\u001b[0m\u001b[0m\n\u001b[0;32m      3\u001b[0m \u001b[1;32mimport\u001b[0m \u001b[0mpandas\u001b[0m \u001b[1;32mas\u001b[0m \u001b[0mpd\u001b[0m\u001b[1;33m\u001b[0m\u001b[1;33m\u001b[0m\u001b[0m\n",
      "\u001b[1;31mModuleNotFoundError\u001b[0m: No module named 'tweepy'"
     ]
    }
   ],
   "source": [
    "import tweepy\n",
    "import json\n",
    "import pandas as pd"
   ]
  },
  {
   "cell_type": "code",
   "execution_count": 0,
   "metadata": {
    "colab": {},
    "colab_type": "code",
    "id": "BqXckG55XwEY"
   },
   "outputs": [],
   "source": [
    "#twitter Authentication\n",
    "#make sure reset your tokens Dhana after this class\n",
    "access_token=\"1198263534599098371-rjTHslwO5UrzS0CRBWtlwqZPm0P1eo\"\n",
    "access_token_secret=\"0r86B4bl8Pduc9TeQzix5gEMZVE36Cgh4NhEsV5PDv8xq\"\n",
    "consumer_key=\"uQtT7eS12iF3uFQDHcJ4abTqh\"\n",
    "consumer_secret=\"goxr0srx48JyZMp6uWiy3Y3iOZAvOszilPRzSML3MAgzOA13li\""
   ]
  },
  {
   "cell_type": "code",
   "execution_count": 5,
   "metadata": {
    "colab": {
     "base_uri": "https://localhost:8080/",
     "height": 34
    },
    "colab_type": "code",
    "executionInfo": {
     "elapsed": 1213,
     "status": "ok",
     "timestamp": 1574564761353,
     "user": {
      "displayName": "NLP groupstudy",
      "photoUrl": "",
      "userId": "10029958468853364814"
     },
     "user_tz": -660
    },
    "id": "XWcK9ummX1Hl",
    "outputId": "0035de4b-9d2b-4fa0-b5ff-ffc462b4e944"
   },
   "outputs": [
    {
     "name": "stdout",
     "output_type": "stream",
     "text": [
      "I Am authenticated\n"
     ]
    }
   ],
   "source": [
    "#Pass authentication details to tweepys OAuth handler\n",
    "auth=tweepy.OAuthHandler(consumer_key,consumer_secret)\n",
    "auth.set_access_token(access_token,access_token_secret)\n",
    "myapi_conn=tweepy.API(auth)\n",
    "\n",
    "try:\n",
    "    myapi_conn.verify_credentials()\n",
    "    print(\"I Am authenticated\")\n",
    "except:\n",
    "    print(\"Authentication Issue\")"
   ]
  },
  {
   "cell_type": "code",
   "execution_count": 0,
   "metadata": {
    "colab": {},
    "colab_type": "code",
    "id": "Sqk6PYDAX5iO"
   },
   "outputs": [],
   "source": [
    "Output_file=\"dhana.txt\"\n",
    "Tweets_to_capture=100\n",
    "tracking_filters=['Hyderabad']"
   ]
  },
  {
   "cell_type": "code",
   "execution_count": 0,
   "metadata": {
    "colab": {},
    "colab_type": "code",
    "id": "woCcrTk2X-Oj"
   },
   "outputs": [],
   "source": [
    "# create streamlistener\n",
    "class MyStreamListener(tweepy.StreamListener):\n",
    "    def __init__(self, api=None):\n",
    "        super(MyStreamListener,self).__init__()\n",
    "        self.num_tweets=0\n",
    "        self.file=open(Output_file,'w')\n",
    "        \n",
    "    def on_status(self, status):\n",
    "        tweet=status._json\n",
    "        self.file.write( json.dumps(tweet) + '\\n')\n",
    "        self.num_tweets+=1\n",
    "        \n",
    "        #stop when i reach the limit\n",
    "        if self.num_tweets <= Tweets_to_capture:\n",
    "            if self.num_tweets % 100 ==0:\n",
    "                print('Number of tweets extracted:{}'.format(self.num_tweets))\n",
    "            return True\n",
    "        else:\n",
    "            return False\n",
    "        self.file.close()\n",
    "            \n",
    "    def on_error(self,status):\n",
    "        print(status)"
   ]
  },
  {
   "cell_type": "code",
   "execution_count": 13,
   "metadata": {
    "colab": {
     "base_uri": "https://localhost:8080/",
     "height": 51
    },
    "colab_type": "code",
    "executionInfo": {
     "elapsed": 394807,
     "status": "ok",
     "timestamp": 1574565732342,
     "user": {
      "displayName": "NLP groupstudy",
      "photoUrl": "",
      "userId": "10029958468853364814"
     },
     "user_tz": -660
    },
    "id": "msvnlUSIYDG5",
    "outputId": "3a7a67a6-6d37-49a9-eaa3-b629607bded2"
   },
   "outputs": [
    {
     "name": "stdout",
     "output_type": "stream",
     "text": [
      "420\n",
      "Number of tweets extracted:100\n"
     ]
    }
   ],
   "source": [
    "#1. initialise streamlistener\n",
    "l=MyStreamListener()\n",
    "\n",
    "# 2 authenticate my stream listener\n",
    "stream=tweepy.Stream(auth,l)\n",
    "\n",
    "#begin extraction \n",
    "# track parametr syntax : comma seperated list of phrases or multiple phrases.\n",
    "#use of track   - determine what type of tweets we are interested from the stream \n",
    "stream.filter(track=tracking_filters)"
   ]
  },
  {
   "cell_type": "code",
   "execution_count": 0,
   "metadata": {
    "colab": {},
    "colab_type": "code",
    "id": "_WAA63qjYRPD"
   },
   "outputs": [],
   "source": [
    "#store tweets\n",
    "tweets_data=[]\n",
    "\n",
    "#save the tweets in a file that we created above\n",
    "\n",
    "with open(Output_file,\"r\") as tweets_file:\n",
    "    for line in tweets_file:\n",
    "        tweets=json.loads(line)\n",
    "        tweets_data.append(tweets)"
   ]
  },
  {
   "cell_type": "code",
   "execution_count": 15,
   "metadata": {
    "colab": {
     "base_uri": "https://localhost:8080/",
     "height": 142
    },
    "colab_type": "code",
    "executionInfo": {
     "elapsed": 1045,
     "status": "ok",
     "timestamp": 1574565748213,
     "user": {
      "displayName": "NLP groupstudy",
      "photoUrl": "",
      "userId": "10029958468853364814"
     },
     "user_tz": -660
    },
    "id": "3nilvpKhYYGE",
    "outputId": "27f640bb-658d-4dbc-a014-7d809be97a1d"
   },
   "outputs": [
    {
     "data": {
      "text/html": [
       "<div>\n",
       "<style scoped>\n",
       "    .dataframe tbody tr th:only-of-type {\n",
       "        vertical-align: middle;\n",
       "    }\n",
       "\n",
       "    .dataframe tbody tr th {\n",
       "        vertical-align: top;\n",
       "    }\n",
       "\n",
       "    .dataframe thead th {\n",
       "        text-align: right;\n",
       "    }\n",
       "</style>\n",
       "<table border=\"1\" class=\"dataframe\">\n",
       "  <thead>\n",
       "    <tr style=\"text-align: right;\">\n",
       "      <th></th>\n",
       "      <th>created_at</th>\n",
       "      <th>lang</th>\n",
       "      <th>text</th>\n",
       "      <th>source</th>\n",
       "    </tr>\n",
       "  </thead>\n",
       "  <tbody>\n",
       "    <tr>\n",
       "      <th>0</th>\n",
       "      <td>Sun Nov 24 03:16:41 +0000 2019</td>\n",
       "      <td>en</td>\n",
       "      <td>RT @devendrayadvinc: Saddened by the news of a...</td>\n",
       "      <td>&lt;a href=\"http://twitter.com/download/android\" ...</td>\n",
       "    </tr>\n",
       "    <tr>\n",
       "      <th>1</th>\n",
       "      <td>Sun Nov 24 03:16:43 +0000 2019</td>\n",
       "      <td>en</td>\n",
       "      <td>RT @TrendJrNTR: Trending @ 2 in Hyderabad Tren...</td>\n",
       "      <td>&lt;a href=\"http://twitter.com/download/android\" ...</td>\n",
       "    </tr>\n",
       "    <tr>\n",
       "      <th>2</th>\n",
       "      <td>Sun Nov 24 03:16:43 +0000 2019</td>\n",
       "      <td>en</td>\n",
       "      <td>RT @agasthyakantu: The driver is very rash, th...</td>\n",
       "      <td>&lt;a href=\"https://mobile.twitter.com\" rel=\"nofo...</td>\n",
       "    </tr>\n",
       "  </tbody>\n",
       "</table>\n",
       "</div>"
      ],
      "text/plain": [
       "                       created_at  ...                                             source\n",
       "0  Sun Nov 24 03:16:41 +0000 2019  ...  <a href=\"http://twitter.com/download/android\" ...\n",
       "1  Sun Nov 24 03:16:43 +0000 2019  ...  <a href=\"http://twitter.com/download/android\" ...\n",
       "2  Sun Nov 24 03:16:43 +0000 2019  ...  <a href=\"https://mobile.twitter.com\" rel=\"nofo...\n",
       "\n",
       "[3 rows x 4 columns]"
      ]
     },
     "execution_count": 15,
     "metadata": {
      "tags": []
     },
     "output_type": "execute_result"
    }
   ],
   "source": [
    "tweets_df=pd.DataFrame(tweets_data,columns=['created_at','lang','text','source'])\n",
    "tweets_df.head(3)"
   ]
  }
 ],
 "metadata": {
  "colab": {
   "collapsed_sections": [],
   "name": "Twitter_v1.ipynb",
   "provenance": []
  },
  "kernelspec": {
   "display_name": "Python 3",
   "language": "python",
   "name": "python3"
  },
  "language_info": {
   "codemirror_mode": {
    "name": "ipython",
    "version": 3
   },
   "file_extension": ".py",
   "mimetype": "text/x-python",
   "name": "python",
   "nbconvert_exporter": "python",
   "pygments_lexer": "ipython3",
   "version": "3.7.1"
  }
 },
 "nbformat": 4,
 "nbformat_minor": 1
}
