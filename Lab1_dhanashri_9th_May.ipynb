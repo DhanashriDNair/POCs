{
  "nbformat": 4,
  "nbformat_minor": 0,
  "metadata": {
    "colab": {
      "name": "Lab1 -dhanashri 9th May.ipynb",
      "provenance": [],
      "collapsed_sections": [],
      "authorship_tag": "ABX9TyPmrjs2AjeNmQrLeEaLmBKy",
      "include_colab_link": true
    },
    "kernelspec": {
      "name": "python3",
      "display_name": "Python 3"
    }
  },
  "cells": [
    {
      "cell_type": "markdown",
      "metadata": {
        "id": "view-in-github",
        "colab_type": "text"
      },
      "source": [
        "<a href=\"https://colab.research.google.com/github/DhanashriDNair/POCs/blob/master/Lab1_dhanashri_9th_May.ipynb\" target=\"_parent\"><img src=\"https://colab.research.google.com/assets/colab-badge.svg\" alt=\"Open In Colab\"/></a>"
      ]
    },
    {
      "cell_type": "code",
      "metadata": {
        "id": "uVxWmci31UwY",
        "colab_type": "code",
        "colab": {}
      },
      "source": [
        "a=20"
      ],
      "execution_count": 0,
      "outputs": []
    },
    {
      "cell_type": "code",
      "metadata": {
        "id": "UJWK1I_V3FTh",
        "colab_type": "code",
        "outputId": "46ad1cb5-92a6-4fe1-b1bc-68fec680c568",
        "colab": {
          "base_uri": "https://localhost:8080/",
          "height": 33
        }
      },
      "source": [
        "print(a)"
      ],
      "execution_count": 0,
      "outputs": [
        {
          "output_type": "stream",
          "text": [
            "20\n"
          ],
          "name": "stdout"
        }
      ]
    },
    {
      "cell_type": "code",
      "metadata": {
        "id": "ZgYdVEzt3l_q",
        "colab_type": "code",
        "colab": {}
      },
      "source": [
        "# Data manipulation "
      ],
      "execution_count": 0,
      "outputs": []
    },
    {
      "cell_type": "code",
      "metadata": {
        "id": "xODbkVtQ3qUo",
        "colab_type": "code",
        "colab": {}
      },
      "source": [
        "# Numpy "
      ],
      "execution_count": 0,
      "outputs": []
    },
    {
      "cell_type": "code",
      "metadata": {
        "id": "JB3sHKPm3v90",
        "colab_type": "code",
        "colab": {}
      },
      "source": [
        "import numpy as np"
      ],
      "execution_count": 0,
      "outputs": []
    },
    {
      "cell_type": "code",
      "metadata": {
        "id": "0lx4NU4m3yoH",
        "colab_type": "code",
        "outputId": "7c8f726f-13f9-4524-c8e5-cd297b299c60",
        "colab": {
          "base_uri": "https://localhost:8080/",
          "height": 33
        }
      },
      "source": [
        "np.__version__"
      ],
      "execution_count": 0,
      "outputs": [
        {
          "output_type": "execute_result",
          "data": {
            "text/plain": [
              "'1.18.4'"
            ]
          },
          "metadata": {
            "tags": []
          },
          "execution_count": 4
        }
      ]
    },
    {
      "cell_type": "code",
      "metadata": {
        "id": "4BRJ6z4i4LGn",
        "colab_type": "code",
        "outputId": "6ffadaea-30e2-4a8e-bf21-c88a958faf97",
        "colab": {
          "base_uri": "https://localhost:8080/",
          "height": 33
        }
      },
      "source": [
        "##### Create an array with numpy(1D Array)\n",
        "a = np.array([11,23,44,67,34])\n",
        "a"
      ],
      "execution_count": 0,
      "outputs": [
        {
          "output_type": "execute_result",
          "data": {
            "text/plain": [
              "array([11, 23, 44, 67, 34])"
            ]
          },
          "metadata": {
            "tags": []
          },
          "execution_count": 5
        }
      ]
    },
    {
      "cell_type": "code",
      "metadata": {
        "id": "8l2BU7vS4ngP",
        "colab_type": "code",
        "outputId": "0ba5be12-b2c3-4be9-f6b6-bed89a0a93b0",
        "colab": {
          "base_uri": "https://localhost:8080/",
          "height": 33
        }
      },
      "source": [
        "type(a)"
      ],
      "execution_count": 0,
      "outputs": [
        {
          "output_type": "execute_result",
          "data": {
            "text/plain": [
              "numpy.ndarray"
            ]
          },
          "metadata": {
            "tags": []
          },
          "execution_count": 6
        }
      ]
    },
    {
      "cell_type": "code",
      "metadata": {
        "id": "gjZbziku4okZ",
        "colab_type": "code",
        "outputId": "d1c20f65-cc5c-4e59-e368-d14247b22e05",
        "colab": {
          "base_uri": "https://localhost:8080/",
          "height": 50
        }
      },
      "source": [
        "# 2d array\n",
        "a=np.array([[12,34,5,6],[34,56,78,23]])\n",
        "a"
      ],
      "execution_count": 0,
      "outputs": [
        {
          "output_type": "execute_result",
          "data": {
            "text/plain": [
              "array([[12, 34,  5,  6],\n",
              "       [34, 56, 78, 23]])"
            ]
          },
          "metadata": {
            "tags": []
          },
          "execution_count": 10
        }
      ]
    },
    {
      "cell_type": "code",
      "metadata": {
        "id": "6DanSr9N5uZD",
        "colab_type": "code",
        "outputId": "b15246fa-8800-4c0c-bcef-3d54c57f4edb",
        "colab": {
          "base_uri": "https://localhost:8080/",
          "height": 33
        }
      },
      "source": [
        "a.ndim"
      ],
      "execution_count": 0,
      "outputs": [
        {
          "output_type": "execute_result",
          "data": {
            "text/plain": [
              "2"
            ]
          },
          "metadata": {
            "tags": []
          },
          "execution_count": 11
        }
      ]
    },
    {
      "cell_type": "code",
      "metadata": {
        "id": "fSyo_uiw5yqL",
        "colab_type": "code",
        "outputId": "62b249bc-f388-4476-80f2-61b51905ecdf",
        "colab": {
          "base_uri": "https://localhost:8080/",
          "height": 33
        }
      },
      "source": [
        "a.size"
      ],
      "execution_count": 0,
      "outputs": [
        {
          "output_type": "execute_result",
          "data": {
            "text/plain": [
              "8"
            ]
          },
          "metadata": {
            "tags": []
          },
          "execution_count": 12
        }
      ]
    },
    {
      "cell_type": "code",
      "metadata": {
        "id": "6c7YSu8g55ME",
        "colab_type": "code",
        "outputId": "fb563041-be8b-4acd-ea1e-5fd351406aab",
        "colab": {
          "base_uri": "https://localhost:8080/",
          "height": 33
        }
      },
      "source": [
        "a.itemsize"
      ],
      "execution_count": 0,
      "outputs": [
        {
          "output_type": "execute_result",
          "data": {
            "text/plain": [
              "8"
            ]
          },
          "metadata": {
            "tags": []
          },
          "execution_count": 13
        }
      ]
    },
    {
      "cell_type": "code",
      "metadata": {
        "id": "A0Q0Bmy75_XU",
        "colab_type": "code",
        "outputId": "7c525e6a-0875-43cb-a519-1ef0c6aa4049",
        "colab": {
          "base_uri": "https://localhost:8080/",
          "height": 33
        }
      },
      "source": [
        "a.dtype"
      ],
      "execution_count": 0,
      "outputs": [
        {
          "output_type": "execute_result",
          "data": {
            "text/plain": [
              "dtype('int64')"
            ]
          },
          "metadata": {
            "tags": []
          },
          "execution_count": 14
        }
      ]
    },
    {
      "cell_type": "code",
      "metadata": {
        "id": "IXxHg1MZ6EV-",
        "colab_type": "code",
        "outputId": "c1b122b7-4d77-4335-c754-80df11dc9f59",
        "colab": {
          "base_uri": "https://localhost:8080/",
          "height": 33
        }
      },
      "source": [
        "a.shape"
      ],
      "execution_count": 0,
      "outputs": [
        {
          "output_type": "execute_result",
          "data": {
            "text/plain": [
              "(2, 4)"
            ]
          },
          "metadata": {
            "tags": []
          },
          "execution_count": 15
        }
      ]
    },
    {
      "cell_type": "code",
      "metadata": {
        "id": "ebrfL0Hu6Jlq",
        "colab_type": "code",
        "outputId": "db44fe0f-137e-493d-fc2b-67c4d04d714b",
        "colab": {
          "base_uri": "https://localhost:8080/",
          "height": 83
        }
      },
      "source": [
        "a.reshape(4,2)"
      ],
      "execution_count": 0,
      "outputs": [
        {
          "output_type": "execute_result",
          "data": {
            "text/plain": [
              "array([[12, 34],\n",
              "       [ 5,  6],\n",
              "       [34, 56],\n",
              "       [78, 23]])"
            ]
          },
          "metadata": {
            "tags": []
          },
          "execution_count": 16
        }
      ]
    },
    {
      "cell_type": "code",
      "metadata": {
        "id": "YM2umHdn67nn",
        "colab_type": "code",
        "outputId": "78328c52-0a2e-4f1c-e1bb-62d96ba7fbec",
        "colab": {
          "base_uri": "https://localhost:8080/",
          "height": 150
        }
      },
      "source": [
        "a.reshape(8,1)"
      ],
      "execution_count": 0,
      "outputs": [
        {
          "output_type": "execute_result",
          "data": {
            "text/plain": [
              "array([[12],\n",
              "       [34],\n",
              "       [ 5],\n",
              "       [ 6],\n",
              "       [34],\n",
              "       [56],\n",
              "       [78],\n",
              "       [23]])"
            ]
          },
          "metadata": {
            "tags": []
          },
          "execution_count": 17
        }
      ]
    },
    {
      "cell_type": "code",
      "metadata": {
        "id": "jd5MNwup67kc",
        "colab_type": "code",
        "outputId": "3fac69f9-e0c8-43db-a13d-f45a2b23fc82",
        "colab": {
          "base_uri": "https://localhost:8080/",
          "height": 33
        }
      },
      "source": [
        "a.dtype"
      ],
      "execution_count": 0,
      "outputs": [
        {
          "output_type": "execute_result",
          "data": {
            "text/plain": [
              "dtype('int64')"
            ]
          },
          "metadata": {
            "tags": []
          },
          "execution_count": 18
        }
      ]
    },
    {
      "cell_type": "code",
      "metadata": {
        "id": "9QtE5sjO67h4",
        "colab_type": "code",
        "outputId": "b1f9ff09-2600-4955-c738-1b47d1da9d62",
        "colab": {
          "base_uri": "https://localhost:8080/",
          "height": 83
        }
      },
      "source": [
        "b = np.array([[12,34,56],[34,56,34],[56,67,34],[51,12,34]])\n",
        "b"
      ],
      "execution_count": 0,
      "outputs": [
        {
          "output_type": "execute_result",
          "data": {
            "text/plain": [
              "array([[12, 34, 56],\n",
              "       [34, 56, 34],\n",
              "       [56, 67, 34],\n",
              "       [51, 12, 34]])"
            ]
          },
          "metadata": {
            "tags": []
          },
          "execution_count": 19
        }
      ]
    },
    {
      "cell_type": "code",
      "metadata": {
        "id": "XSjOtfxv67fx",
        "colab_type": "code",
        "outputId": "6ed021a5-a792-4d21-e0a6-da37f36c744d",
        "colab": {
          "base_uri": "https://localhost:8080/",
          "height": 33
        }
      },
      "source": [
        "##### Pick Element from the array\n",
        "b[2]"
      ],
      "execution_count": 0,
      "outputs": [
        {
          "output_type": "execute_result",
          "data": {
            "text/plain": [
              "array([56, 67, 34])"
            ]
          },
          "metadata": {
            "tags": []
          },
          "execution_count": 20
        }
      ]
    },
    {
      "cell_type": "code",
      "metadata": {
        "id": "Pimwbv1r67dS",
        "colab_type": "code",
        "outputId": "97c29a4d-2946-40f3-f4ae-7c1b60d7ab58",
        "colab": {
          "base_uri": "https://localhost:8080/",
          "height": 33
        }
      },
      "source": [
        "b[2,1]"
      ],
      "execution_count": 0,
      "outputs": [
        {
          "output_type": "execute_result",
          "data": {
            "text/plain": [
              "67"
            ]
          },
          "metadata": {
            "tags": []
          },
          "execution_count": 21
        }
      ]
    },
    {
      "cell_type": "code",
      "metadata": {
        "id": "0vofMU2x67W4",
        "colab_type": "code",
        "outputId": "2e48ea01-b0f3-49a7-f988-36cfb4533040",
        "colab": {
          "base_uri": "https://localhost:8080/",
          "height": 67
        }
      },
      "source": [
        "b[1:4]"
      ],
      "execution_count": 0,
      "outputs": [
        {
          "output_type": "execute_result",
          "data": {
            "text/plain": [
              "array([[34, 56, 34],\n",
              "       [56, 67, 34],\n",
              "       [51, 12, 34]])"
            ]
          },
          "metadata": {
            "tags": []
          },
          "execution_count": 22
        }
      ]
    },
    {
      "cell_type": "code",
      "metadata": {
        "id": "-PqcW2ta9oVX",
        "colab_type": "code",
        "outputId": "a785cfba-87bc-43e5-c04d-11377a319cc3",
        "colab": {
          "base_uri": "https://localhost:8080/",
          "height": 33
        }
      },
      "source": [
        "b[-1]"
      ],
      "execution_count": 0,
      "outputs": [
        {
          "output_type": "execute_result",
          "data": {
            "text/plain": [
              "array([51, 12, 34])"
            ]
          },
          "metadata": {
            "tags": []
          },
          "execution_count": 23
        }
      ]
    },
    {
      "cell_type": "code",
      "metadata": {
        "id": "AFXXjIV89oSm",
        "colab_type": "code",
        "outputId": "f5225195-5576-4fb8-ccd4-0e33bbe4e080",
        "colab": {
          "base_uri": "https://localhost:8080/",
          "height": 83
        }
      },
      "source": [
        "b"
      ],
      "execution_count": 0,
      "outputs": [
        {
          "output_type": "execute_result",
          "data": {
            "text/plain": [
              "array([[12, 34, 56],\n",
              "       [34, 56, 34],\n",
              "       [56, 67, 34],\n",
              "       [51, 12, 34]])"
            ]
          },
          "metadata": {
            "tags": []
          },
          "execution_count": 24
        }
      ]
    },
    {
      "cell_type": "code",
      "metadata": {
        "id": "SHNH1J-29oQr",
        "colab_type": "code",
        "outputId": "56a0891e-8ebf-4e13-ea21-f07dcefc2302",
        "colab": {
          "base_uri": "https://localhost:8080/",
          "height": 83
        }
      },
      "source": [
        "##### Concatination of arrays (Merging)\n",
        "i = np.array([[2,3,5],[4,5,6]])\n",
        "j = np.array([[20,30,50],[40,50,60]])\n",
        "#### Vertical Stacking\n",
        "np.vstack((i,j))"
      ],
      "execution_count": 0,
      "outputs": [
        {
          "output_type": "execute_result",
          "data": {
            "text/plain": [
              "array([[ 2,  3,  5],\n",
              "       [ 4,  5,  6],\n",
              "       [20, 30, 50],\n",
              "       [40, 50, 60]])"
            ]
          },
          "metadata": {
            "tags": []
          },
          "execution_count": 25
        }
      ]
    },
    {
      "cell_type": "code",
      "metadata": {
        "id": "cIc7NGbY9oOU",
        "colab_type": "code",
        "outputId": "a231f559-1fe3-493a-e261-8bf46aa025dc",
        "colab": {
          "base_uri": "https://localhost:8080/",
          "height": 50
        }
      },
      "source": [
        "#### Horizontal Stacking\n",
        "np.hstack((i,j))"
      ],
      "execution_count": 0,
      "outputs": [
        {
          "output_type": "execute_result",
          "data": {
            "text/plain": [
              "array([[ 2,  3,  5, 20, 30, 50],\n",
              "       [ 4,  5,  6, 40, 50, 60]])"
            ]
          },
          "metadata": {
            "tags": []
          },
          "execution_count": 26
        }
      ]
    },
    {
      "cell_type": "code",
      "metadata": {
        "id": "k30VRHKs9oKP",
        "colab_type": "code",
        "outputId": "5fce1588-5ef6-468e-8d8d-3203246b7eee",
        "colab": {
          "base_uri": "https://localhost:8080/",
          "height": 100
        }
      },
      "source": [
        "##### Generate Some Equidistant numbers b/w some range\n",
        "np.linspace(1,100,20)"
      ],
      "execution_count": 0,
      "outputs": [
        {
          "output_type": "execute_result",
          "data": {
            "text/plain": [
              "array([  1.        ,   6.21052632,  11.42105263,  16.63157895,\n",
              "        21.84210526,  27.05263158,  32.26315789,  37.47368421,\n",
              "        42.68421053,  47.89473684,  53.10526316,  58.31578947,\n",
              "        63.52631579,  68.73684211,  73.94736842,  79.15789474,\n",
              "        84.36842105,  89.57894737,  94.78947368, 100.        ])"
            ]
          },
          "metadata": {
            "tags": []
          },
          "execution_count": 27
        }
      ]
    },
    {
      "cell_type": "code",
      "metadata": {
        "id": "2iaThpvCA1Df",
        "colab_type": "code",
        "outputId": "05dc8faf-bbea-4550-e4ff-6d272bc4ee05",
        "colab": {
          "base_uri": "https://localhost:8080/",
          "height": 83
        }
      },
      "source": [
        "np.linspace(1,50,50)"
      ],
      "execution_count": 0,
      "outputs": [
        {
          "output_type": "execute_result",
          "data": {
            "text/plain": [
              "array([ 1.,  2.,  3.,  4.,  5.,  6.,  7.,  8.,  9., 10., 11., 12., 13.,\n",
              "       14., 15., 16., 17., 18., 19., 20., 21., 22., 23., 24., 25., 26.,\n",
              "       27., 28., 29., 30., 31., 32., 33., 34., 35., 36., 37., 38., 39.,\n",
              "       40., 41., 42., 43., 44., 45., 46., 47., 48., 49., 50.])"
            ]
          },
          "metadata": {
            "tags": []
          },
          "execution_count": 28
        }
      ]
    },
    {
      "cell_type": "code",
      "metadata": {
        "id": "0r7GlZeHA9Zj",
        "colab_type": "code",
        "outputId": "a7ee764a-2639-4d6c-ca7f-f723dcda832c",
        "colab": {
          "base_uri": "https://localhost:8080/",
          "height": 33
        }
      },
      "source": [
        "np.linspace(1,10,5)"
      ],
      "execution_count": 0,
      "outputs": [
        {
          "output_type": "execute_result",
          "data": {
            "text/plain": [
              "array([ 1.  ,  3.25,  5.5 ,  7.75, 10.  ])"
            ]
          },
          "metadata": {
            "tags": []
          },
          "execution_count": 29
        }
      ]
    },
    {
      "cell_type": "code",
      "metadata": {
        "id": "Cs35phOsA9WZ",
        "colab_type": "code",
        "outputId": "8cb4bf57-d671-42aa-e0e9-081797faafae",
        "colab": {
          "base_uri": "https://localhost:8080/",
          "height": 33
        }
      },
      "source": [
        "np.arange(10,101,9)"
      ],
      "execution_count": 0,
      "outputs": [
        {
          "output_type": "execute_result",
          "data": {
            "text/plain": [
              "array([ 10,  19,  28,  37,  46,  55,  64,  73,  82,  91, 100])"
            ]
          },
          "metadata": {
            "tags": []
          },
          "execution_count": 30
        }
      ]
    },
    {
      "cell_type": "code",
      "metadata": {
        "id": "jv0bSYf4A9SC",
        "colab_type": "code",
        "outputId": "7d6060e7-e9e2-466d-eb76-83de572e36a8",
        "colab": {
          "base_uri": "https://localhost:8080/",
          "height": 33
        }
      },
      "source": [
        "np.arange(101,10,-9)"
      ],
      "execution_count": 0,
      "outputs": [
        {
          "output_type": "execute_result",
          "data": {
            "text/plain": [
              "array([101,  92,  83,  74,  65,  56,  47,  38,  29,  20,  11])"
            ]
          },
          "metadata": {
            "tags": []
          },
          "execution_count": 31
        }
      ]
    },
    {
      "cell_type": "code",
      "metadata": {
        "id": "DFksTPCkBRfD",
        "colab_type": "code",
        "outputId": "4327b044-5541-47bc-fcef-d7a06dd2d1d2",
        "colab": {
          "base_uri": "https://localhost:8080/",
          "height": 33
        }
      },
      "source": [
        "### Creating zero matrix\n",
        "zeros = np.zeros(5)\n",
        "zeros"
      ],
      "execution_count": 0,
      "outputs": [
        {
          "output_type": "execute_result",
          "data": {
            "text/plain": [
              "array([0., 0., 0., 0., 0.])"
            ]
          },
          "metadata": {
            "tags": []
          },
          "execution_count": 32
        }
      ]
    },
    {
      "cell_type": "code",
      "metadata": {
        "id": "xyKzYNU7BS3g",
        "colab_type": "code",
        "outputId": "6d451d83-2094-4730-851f-4f2553939508",
        "colab": {
          "base_uri": "https://localhost:8080/",
          "height": 100
        }
      },
      "source": [
        "### Creating zero matrix\n",
        "zeros = np.zeros((5,4))\n",
        "zeros"
      ],
      "execution_count": 0,
      "outputs": [
        {
          "output_type": "execute_result",
          "data": {
            "text/plain": [
              "array([[0., 0., 0., 0.],\n",
              "       [0., 0., 0., 0.],\n",
              "       [0., 0., 0., 0.],\n",
              "       [0., 0., 0., 0.],\n",
              "       [0., 0., 0., 0.]])"
            ]
          },
          "metadata": {
            "tags": []
          },
          "execution_count": 33
        }
      ]
    },
    {
      "cell_type": "code",
      "metadata": {
        "id": "3_1CnlObBX_P",
        "colab_type": "code",
        "outputId": "7ea98a15-31f2-4e1c-a2fc-9035ed2bb2ef",
        "colab": {
          "base_uri": "https://localhost:8080/",
          "height": 100
        }
      },
      "source": [
        "### Creating ones matrix\n",
        "ones = np.ones((5,4))\n",
        "ones"
      ],
      "execution_count": 0,
      "outputs": [
        {
          "output_type": "execute_result",
          "data": {
            "text/plain": [
              "array([[1., 1., 1., 1.],\n",
              "       [1., 1., 1., 1.],\n",
              "       [1., 1., 1., 1.],\n",
              "       [1., 1., 1., 1.],\n",
              "       [1., 1., 1., 1.]])"
            ]
          },
          "metadata": {
            "tags": []
          },
          "execution_count": 34
        }
      ]
    },
    {
      "cell_type": "code",
      "metadata": {
        "id": "N4sK3209BYfU",
        "colab_type": "code",
        "outputId": "a8f33bdb-2244-435b-83b9-3015c3e95e26",
        "colab": {
          "base_uri": "https://localhost:8080/",
          "height": 100
        }
      },
      "source": [
        "ones*20"
      ],
      "execution_count": 0,
      "outputs": [
        {
          "output_type": "execute_result",
          "data": {
            "text/plain": [
              "array([[20., 20., 20., 20.],\n",
              "       [20., 20., 20., 20.],\n",
              "       [20., 20., 20., 20.],\n",
              "       [20., 20., 20., 20.],\n",
              "       [20., 20., 20., 20.]])"
            ]
          },
          "metadata": {
            "tags": []
          },
          "execution_count": 35
        }
      ]
    },
    {
      "cell_type": "code",
      "metadata": {
        "id": "bJEpOBlHBX8N",
        "colab_type": "code",
        "outputId": "10ffa80a-81a0-4313-a602-b745f025d853",
        "colab": {
          "base_uri": "https://localhost:8080/",
          "height": 33
        }
      },
      "source": [
        "##### Random Numbers \n",
        "np.random.randint(10,200)"
      ],
      "execution_count": 0,
      "outputs": [
        {
          "output_type": "execute_result",
          "data": {
            "text/plain": [
              "80"
            ]
          },
          "metadata": {
            "tags": []
          },
          "execution_count": 36
        }
      ]
    },
    {
      "cell_type": "code",
      "metadata": {
        "id": "TdQ2K7ZXBX3N",
        "colab_type": "code",
        "outputId": "90361eda-a925-4b39-d2ec-6eb1cee37892",
        "colab": {
          "base_uri": "https://localhost:8080/",
          "height": 33
        }
      },
      "source": [
        "##### Random Numbers \n",
        "np.random.randint(10,200,10)"
      ],
      "execution_count": 0,
      "outputs": [
        {
          "output_type": "execute_result",
          "data": {
            "text/plain": [
              "array([143,  15,  78, 193, 194,  50, 121,  19,  59,  80])"
            ]
          },
          "metadata": {
            "tags": []
          },
          "execution_count": 37
        }
      ]
    },
    {
      "cell_type": "code",
      "metadata": {
        "id": "flQ1o_SQB91b",
        "colab_type": "code",
        "outputId": "c2a161b0-bf39-4ce3-e5a4-46727fbad2a9",
        "colab": {
          "base_uri": "https://localhost:8080/",
          "height": 100
        }
      },
      "source": [
        "np.random.randint(10,200,(5,4))"
      ],
      "execution_count": 0,
      "outputs": [
        {
          "output_type": "execute_result",
          "data": {
            "text/plain": [
              "array([[ 48,  66, 147,  11],\n",
              "       [ 96,  94,  83,  38],\n",
              "       [ 10,  83, 112, 162],\n",
              "       [160,  57, 158,  89],\n",
              "       [193, 195,  57, 154]])"
            ]
          },
          "metadata": {
            "tags": []
          },
          "execution_count": 38
        }
      ]
    },
    {
      "cell_type": "code",
      "metadata": {
        "id": "S34IutOxB_R8",
        "colab_type": "code",
        "outputId": "36cfd89e-1524-42ba-cd39-ce608fe75d4b",
        "colab": {
          "base_uri": "https://localhost:8080/",
          "height": 33
        }
      },
      "source": [
        "#### Seed the randomness  it remains same through out the program t will not change \n",
        "np.random.seed(7)\n",
        "np.random.randint(10,200,10)"
      ],
      "execution_count": 0,
      "outputs": [
        {
          "output_type": "execute_result",
          "data": {
            "text/plain": [
              "array([185,  35,  77, 161, 113, 102, 195, 152,  33,  82])"
            ]
          },
          "metadata": {
            "tags": []
          },
          "execution_count": 40
        }
      ]
    },
    {
      "cell_type": "code",
      "metadata": {
        "id": "jjmQojalDDUD",
        "colab_type": "code",
        "colab": {}
      },
      "source": [
        "# eND OF NUMPY "
      ],
      "execution_count": 0,
      "outputs": []
    },
    {
      "cell_type": "code",
      "metadata": {
        "id": "Jl3Pa9vODZWR",
        "colab_type": "code",
        "colab": {}
      },
      "source": [
        "### PANDAS\n",
        "## SERIES and Data frames \n",
        "import pandas as pd"
      ],
      "execution_count": 0,
      "outputs": []
    },
    {
      "cell_type": "code",
      "metadata": {
        "id": "Fhoj5_ooDZz_",
        "colab_type": "code",
        "colab": {}
      },
      "source": [
        "# SERIES \n",
        "# it gives the data a sequential form \n",
        "#similar to array index but index attached to it\n",
        "# hold data in tuple, list and dictory"
      ],
      "execution_count": 0,
      "outputs": []
    },
    {
      "cell_type": "code",
      "metadata": {
        "id": "9zhZtQYnDZSS",
        "colab_type": "code",
        "outputId": "ff5c9afa-793a-407b-e3bd-ea7d0891960b",
        "colab": {
          "base_uri": "https://localhost:8080/",
          "height": 117
        }
      },
      "source": [
        "marks = [100,90,80,75,89]\n",
        "sub=[\"eng\", \"sci\", \"maths\", \"hindi\"]\n",
        "s1 = pd.Series(marks)\n",
        "s1"
      ],
      "execution_count": 0,
      "outputs": [
        {
          "output_type": "execute_result",
          "data": {
            "text/plain": [
              "0    100\n",
              "1     90\n",
              "2     80\n",
              "3     75\n",
              "4     89\n",
              "dtype: int64"
            ]
          },
          "metadata": {
            "tags": []
          },
          "execution_count": 48
        }
      ]
    },
    {
      "cell_type": "code",
      "metadata": {
        "id": "ptoNarlwEwoz",
        "colab_type": "code",
        "outputId": "7de48e76-7046-4e21-ad1f-a73c30ac0ade",
        "colab": {
          "base_uri": "https://localhost:8080/",
          "height": 117
        }
      },
      "source": [
        "marks = [100,90,80,75,89]\n",
        "sub = [\"Maths\",\"Science\",\"EVS\",\"English\",\"IP\"]\n",
        "s1 = pd.Series(marks,index=sub)\n",
        "s1"
      ],
      "execution_count": 0,
      "outputs": [
        {
          "output_type": "execute_result",
          "data": {
            "text/plain": [
              "Maths      100\n",
              "Science     90\n",
              "EVS         80\n",
              "English     75\n",
              "IP          89\n",
              "dtype: int64"
            ]
          },
          "metadata": {
            "tags": []
          },
          "execution_count": 49
        }
      ]
    },
    {
      "cell_type": "code",
      "metadata": {
        "id": "v-mt0F7tGa93",
        "colab_type": "code",
        "outputId": "23ee8c6b-fa09-4885-a2b8-81142763ef47",
        "colab": {
          "base_uri": "https://localhost:8080/",
          "height": 117
        }
      },
      "source": [
        "marks = [100,90,80,75,89]\n",
        "sub = [\"Maths\",\"Science\",\"EVS\",\"English\",\"IP\"]\n",
        "s1 = pd.Series(sub,index=marks)\n",
        "s1"
      ],
      "execution_count": 0,
      "outputs": [
        {
          "output_type": "execute_result",
          "data": {
            "text/plain": [
              "100      Maths\n",
              "90     Science\n",
              "80         EVS\n",
              "75     English\n",
              "89          IP\n",
              "dtype: object"
            ]
          },
          "metadata": {
            "tags": []
          },
          "execution_count": 50
        }
      ]
    },
    {
      "cell_type": "code",
      "metadata": {
        "id": "7LbpRhNEGa34",
        "colab_type": "code",
        "outputId": "7a2460b7-20b0-489a-b319-933a8326e1e4",
        "colab": {
          "base_uri": "https://localhost:8080/",
          "height": 117
        }
      },
      "source": [
        "marks = [100,90,80,75,89]\n",
        "sub = (\"Maths\",\"Science\",\"EVS\",\"English\",\"IP\")\n",
        "s1 = pd.Series(marks,index=sub)\n",
        "s1"
      ],
      "execution_count": 0,
      "outputs": [
        {
          "output_type": "execute_result",
          "data": {
            "text/plain": [
              "Maths      100\n",
              "Science     90\n",
              "EVS         80\n",
              "English     75\n",
              "IP          89\n",
              "dtype: int64"
            ]
          },
          "metadata": {
            "tags": []
          },
          "execution_count": 51
        }
      ]
    },
    {
      "cell_type": "code",
      "metadata": {
        "id": "S5jiGekqGauw",
        "colab_type": "code",
        "outputId": "a7d0d698-9eab-43f2-cfc9-eed5b4efa647",
        "colab": {
          "base_uri": "https://localhost:8080/",
          "height": 100
        }
      },
      "source": [
        "dict = {\"Maths\":90,\"Science\":100,\"EVS\":80,\"Hindi\":56}\n",
        "s2 = pd.Series(dict)\n",
        "s2"
      ],
      "execution_count": 0,
      "outputs": [
        {
          "output_type": "execute_result",
          "data": {
            "text/plain": [
              "Maths       90\n",
              "Science    100\n",
              "EVS         80\n",
              "Hindi       56\n",
              "dtype: int64"
            ]
          },
          "metadata": {
            "tags": []
          },
          "execution_count": 52
        }
      ]
    },
    {
      "cell_type": "code",
      "metadata": {
        "id": "QDkFdcttGahu",
        "colab_type": "code",
        "outputId": "53607089-51d2-4f99-b71c-cabe037fc489",
        "colab": {
          "base_uri": "https://localhost:8080/",
          "height": 133
        }
      },
      "source": [
        "s3 = s1+s2\n",
        "s3"
      ],
      "execution_count": 0,
      "outputs": [
        {
          "output_type": "execute_result",
          "data": {
            "text/plain": [
              "EVS        160.0\n",
              "English      NaN\n",
              "Hindi        NaN\n",
              "IP           NaN\n",
              "Maths      190.0\n",
              "Science    190.0\n",
              "dtype: float64"
            ]
          },
          "metadata": {
            "tags": []
          },
          "execution_count": 53
        }
      ]
    },
    {
      "cell_type": "code",
      "metadata": {
        "id": "hhmbSjNDHbOJ",
        "colab_type": "code",
        "outputId": "d5d882e0-e5c9-43c1-d4bd-3d4d26bc874a",
        "colab": {
          "base_uri": "https://localhost:8080/",
          "height": 133
        }
      },
      "source": [
        "s3.head(6)"
      ],
      "execution_count": 0,
      "outputs": [
        {
          "output_type": "execute_result",
          "data": {
            "text/plain": [
              "EVS        160.0\n",
              "English      NaN\n",
              "Hindi        NaN\n",
              "IP           NaN\n",
              "Maths      190.0\n",
              "Science    190.0\n",
              "dtype: float64"
            ]
          },
          "metadata": {
            "tags": []
          },
          "execution_count": 54
        }
      ]
    },
    {
      "cell_type": "code",
      "metadata": {
        "id": "di2MNkRkHbI6",
        "colab_type": "code",
        "outputId": "59bd31f0-a491-433c-877c-ab3018906c7c",
        "colab": {
          "base_uri": "https://localhost:8080/",
          "height": 83
        }
      },
      "source": [
        "s3.tail(3)"
      ],
      "execution_count": 0,
      "outputs": [
        {
          "output_type": "execute_result",
          "data": {
            "text/plain": [
              "IP           NaN\n",
              "Maths      190.0\n",
              "Science    190.0\n",
              "dtype: float64"
            ]
          },
          "metadata": {
            "tags": []
          },
          "execution_count": 55
        }
      ]
    },
    {
      "cell_type": "code",
      "metadata": {
        "id": "thZtaDiFHbCB",
        "colab_type": "code",
        "outputId": "178dc79e-780d-49f7-ff04-f37bf892fea2",
        "colab": {
          "base_uri": "https://localhost:8080/",
          "height": 150
        }
      },
      "source": [
        "s3[\"Urdu\"] = 200\n",
        "s3"
      ],
      "execution_count": 0,
      "outputs": [
        {
          "output_type": "execute_result",
          "data": {
            "text/plain": [
              "EVS        160.0\n",
              "English      NaN\n",
              "Hindi        NaN\n",
              "IP           NaN\n",
              "Maths      190.0\n",
              "Science    190.0\n",
              "Urdu       200.0\n",
              "dtype: float64"
            ]
          },
          "metadata": {
            "tags": []
          },
          "execution_count": 56
        }
      ]
    },
    {
      "cell_type": "code",
      "metadata": {
        "id": "JKor-INwHa7H",
        "colab_type": "code",
        "outputId": "6195e78d-efe1-467b-b66a-8ec3b77c01a0",
        "colab": {
          "base_uri": "https://localhost:8080/",
          "height": 257
        }
      },
      "source": [
        "##### DataFrame\n",
        "#### collection of series\n",
        "df = pd.DataFrame(s3)\n",
        "df"
      ],
      "execution_count": 0,
      "outputs": [
        {
          "output_type": "execute_result",
          "data": {
            "text/html": [
              "<div>\n",
              "<style scoped>\n",
              "    .dataframe tbody tr th:only-of-type {\n",
              "        vertical-align: middle;\n",
              "    }\n",
              "\n",
              "    .dataframe tbody tr th {\n",
              "        vertical-align: top;\n",
              "    }\n",
              "\n",
              "    .dataframe thead th {\n",
              "        text-align: right;\n",
              "    }\n",
              "</style>\n",
              "<table border=\"1\" class=\"dataframe\">\n",
              "  <thead>\n",
              "    <tr style=\"text-align: right;\">\n",
              "      <th></th>\n",
              "      <th>0</th>\n",
              "    </tr>\n",
              "  </thead>\n",
              "  <tbody>\n",
              "    <tr>\n",
              "      <th>EVS</th>\n",
              "      <td>160.0</td>\n",
              "    </tr>\n",
              "    <tr>\n",
              "      <th>English</th>\n",
              "      <td>NaN</td>\n",
              "    </tr>\n",
              "    <tr>\n",
              "      <th>Hindi</th>\n",
              "      <td>NaN</td>\n",
              "    </tr>\n",
              "    <tr>\n",
              "      <th>IP</th>\n",
              "      <td>NaN</td>\n",
              "    </tr>\n",
              "    <tr>\n",
              "      <th>Maths</th>\n",
              "      <td>190.0</td>\n",
              "    </tr>\n",
              "    <tr>\n",
              "      <th>Science</th>\n",
              "      <td>190.0</td>\n",
              "    </tr>\n",
              "    <tr>\n",
              "      <th>Urdu</th>\n",
              "      <td>200.0</td>\n",
              "    </tr>\n",
              "  </tbody>\n",
              "</table>\n",
              "</div>"
            ],
            "text/plain": [
              "             0\n",
              "EVS      160.0\n",
              "English    NaN\n",
              "Hindi      NaN\n",
              "IP         NaN\n",
              "Maths    190.0\n",
              "Science  190.0\n",
              "Urdu     200.0"
            ]
          },
          "metadata": {
            "tags": []
          },
          "execution_count": 57
        }
      ]
    },
    {
      "cell_type": "code",
      "metadata": {
        "id": "_zK0ytf3HW6w",
        "colab_type": "code",
        "outputId": "73ed070d-146a-4d20-d59f-a5ca4e7a7ad0",
        "colab": {
          "base_uri": "https://localhost:8080/",
          "height": 257
        }
      },
      "source": [
        "df[\"School Name\"] = \"DPS Delhi\"\n",
        "df"
      ],
      "execution_count": 0,
      "outputs": [
        {
          "output_type": "execute_result",
          "data": {
            "text/html": [
              "<div>\n",
              "<style scoped>\n",
              "    .dataframe tbody tr th:only-of-type {\n",
              "        vertical-align: middle;\n",
              "    }\n",
              "\n",
              "    .dataframe tbody tr th {\n",
              "        vertical-align: top;\n",
              "    }\n",
              "\n",
              "    .dataframe thead th {\n",
              "        text-align: right;\n",
              "    }\n",
              "</style>\n",
              "<table border=\"1\" class=\"dataframe\">\n",
              "  <thead>\n",
              "    <tr style=\"text-align: right;\">\n",
              "      <th></th>\n",
              "      <th>0</th>\n",
              "      <th>School Name</th>\n",
              "    </tr>\n",
              "  </thead>\n",
              "  <tbody>\n",
              "    <tr>\n",
              "      <th>EVS</th>\n",
              "      <td>160.0</td>\n",
              "      <td>DPS Delhi</td>\n",
              "    </tr>\n",
              "    <tr>\n",
              "      <th>English</th>\n",
              "      <td>NaN</td>\n",
              "      <td>DPS Delhi</td>\n",
              "    </tr>\n",
              "    <tr>\n",
              "      <th>Hindi</th>\n",
              "      <td>NaN</td>\n",
              "      <td>DPS Delhi</td>\n",
              "    </tr>\n",
              "    <tr>\n",
              "      <th>IP</th>\n",
              "      <td>NaN</td>\n",
              "      <td>DPS Delhi</td>\n",
              "    </tr>\n",
              "    <tr>\n",
              "      <th>Maths</th>\n",
              "      <td>190.0</td>\n",
              "      <td>DPS Delhi</td>\n",
              "    </tr>\n",
              "    <tr>\n",
              "      <th>Science</th>\n",
              "      <td>190.0</td>\n",
              "      <td>DPS Delhi</td>\n",
              "    </tr>\n",
              "    <tr>\n",
              "      <th>Urdu</th>\n",
              "      <td>200.0</td>\n",
              "      <td>DPS Delhi</td>\n",
              "    </tr>\n",
              "  </tbody>\n",
              "</table>\n",
              "</div>"
            ],
            "text/plain": [
              "             0 School Name\n",
              "EVS      160.0   DPS Delhi\n",
              "English    NaN   DPS Delhi\n",
              "Hindi      NaN   DPS Delhi\n",
              "IP         NaN   DPS Delhi\n",
              "Maths    190.0   DPS Delhi\n",
              "Science  190.0   DPS Delhi\n",
              "Urdu     200.0   DPS Delhi"
            ]
          },
          "metadata": {
            "tags": []
          },
          "execution_count": 58
        }
      ]
    },
    {
      "cell_type": "code",
      "metadata": {
        "id": "b5AuklRIHW3V",
        "colab_type": "code",
        "outputId": "a5289c7e-c575-4528-f15c-43e610461273",
        "colab": {
          "base_uri": "https://localhost:8080/",
          "height": 257
        }
      },
      "source": [
        "df[\"Grade\"] = [\"B\",\"E\",\"E\",\"E\",\"A\",\"A\",\"A\"]\n",
        "df"
      ],
      "execution_count": 0,
      "outputs": [
        {
          "output_type": "execute_result",
          "data": {
            "text/html": [
              "<div>\n",
              "<style scoped>\n",
              "    .dataframe tbody tr th:only-of-type {\n",
              "        vertical-align: middle;\n",
              "    }\n",
              "\n",
              "    .dataframe tbody tr th {\n",
              "        vertical-align: top;\n",
              "    }\n",
              "\n",
              "    .dataframe thead th {\n",
              "        text-align: right;\n",
              "    }\n",
              "</style>\n",
              "<table border=\"1\" class=\"dataframe\">\n",
              "  <thead>\n",
              "    <tr style=\"text-align: right;\">\n",
              "      <th></th>\n",
              "      <th>0</th>\n",
              "      <th>School Name</th>\n",
              "      <th>Grade</th>\n",
              "    </tr>\n",
              "  </thead>\n",
              "  <tbody>\n",
              "    <tr>\n",
              "      <th>EVS</th>\n",
              "      <td>160.0</td>\n",
              "      <td>DPS Delhi</td>\n",
              "      <td>B</td>\n",
              "    </tr>\n",
              "    <tr>\n",
              "      <th>English</th>\n",
              "      <td>NaN</td>\n",
              "      <td>DPS Delhi</td>\n",
              "      <td>E</td>\n",
              "    </tr>\n",
              "    <tr>\n",
              "      <th>Hindi</th>\n",
              "      <td>NaN</td>\n",
              "      <td>DPS Delhi</td>\n",
              "      <td>E</td>\n",
              "    </tr>\n",
              "    <tr>\n",
              "      <th>IP</th>\n",
              "      <td>NaN</td>\n",
              "      <td>DPS Delhi</td>\n",
              "      <td>E</td>\n",
              "    </tr>\n",
              "    <tr>\n",
              "      <th>Maths</th>\n",
              "      <td>190.0</td>\n",
              "      <td>DPS Delhi</td>\n",
              "      <td>A</td>\n",
              "    </tr>\n",
              "    <tr>\n",
              "      <th>Science</th>\n",
              "      <td>190.0</td>\n",
              "      <td>DPS Delhi</td>\n",
              "      <td>A</td>\n",
              "    </tr>\n",
              "    <tr>\n",
              "      <th>Urdu</th>\n",
              "      <td>200.0</td>\n",
              "      <td>DPS Delhi</td>\n",
              "      <td>A</td>\n",
              "    </tr>\n",
              "  </tbody>\n",
              "</table>\n",
              "</div>"
            ],
            "text/plain": [
              "             0 School Name Grade\n",
              "EVS      160.0   DPS Delhi     B\n",
              "English    NaN   DPS Delhi     E\n",
              "Hindi      NaN   DPS Delhi     E\n",
              "IP         NaN   DPS Delhi     E\n",
              "Maths    190.0   DPS Delhi     A\n",
              "Science  190.0   DPS Delhi     A\n",
              "Urdu     200.0   DPS Delhi     A"
            ]
          },
          "metadata": {
            "tags": []
          },
          "execution_count": 59
        }
      ]
    },
    {
      "cell_type": "code",
      "metadata": {
        "id": "EQozdQnvHWyM",
        "colab_type": "code",
        "outputId": "cfdb20e1-3a99-4947-a007-6e102c087c59",
        "colab": {
          "base_uri": "https://localhost:8080/",
          "height": 257
        }
      },
      "source": [
        "df.rename(columns={0:\"Marks\"},inplace=True)\n",
        "df"
      ],
      "execution_count": 0,
      "outputs": [
        {
          "output_type": "execute_result",
          "data": {
            "text/html": [
              "<div>\n",
              "<style scoped>\n",
              "    .dataframe tbody tr th:only-of-type {\n",
              "        vertical-align: middle;\n",
              "    }\n",
              "\n",
              "    .dataframe tbody tr th {\n",
              "        vertical-align: top;\n",
              "    }\n",
              "\n",
              "    .dataframe thead th {\n",
              "        text-align: right;\n",
              "    }\n",
              "</style>\n",
              "<table border=\"1\" class=\"dataframe\">\n",
              "  <thead>\n",
              "    <tr style=\"text-align: right;\">\n",
              "      <th></th>\n",
              "      <th>Marks</th>\n",
              "      <th>School Name</th>\n",
              "      <th>Grade</th>\n",
              "    </tr>\n",
              "  </thead>\n",
              "  <tbody>\n",
              "    <tr>\n",
              "      <th>EVS</th>\n",
              "      <td>160.0</td>\n",
              "      <td>DPS Delhi</td>\n",
              "      <td>B</td>\n",
              "    </tr>\n",
              "    <tr>\n",
              "      <th>English</th>\n",
              "      <td>NaN</td>\n",
              "      <td>DPS Delhi</td>\n",
              "      <td>E</td>\n",
              "    </tr>\n",
              "    <tr>\n",
              "      <th>Hindi</th>\n",
              "      <td>NaN</td>\n",
              "      <td>DPS Delhi</td>\n",
              "      <td>E</td>\n",
              "    </tr>\n",
              "    <tr>\n",
              "      <th>IP</th>\n",
              "      <td>NaN</td>\n",
              "      <td>DPS Delhi</td>\n",
              "      <td>E</td>\n",
              "    </tr>\n",
              "    <tr>\n",
              "      <th>Maths</th>\n",
              "      <td>190.0</td>\n",
              "      <td>DPS Delhi</td>\n",
              "      <td>A</td>\n",
              "    </tr>\n",
              "    <tr>\n",
              "      <th>Science</th>\n",
              "      <td>190.0</td>\n",
              "      <td>DPS Delhi</td>\n",
              "      <td>A</td>\n",
              "    </tr>\n",
              "    <tr>\n",
              "      <th>Urdu</th>\n",
              "      <td>200.0</td>\n",
              "      <td>DPS Delhi</td>\n",
              "      <td>A</td>\n",
              "    </tr>\n",
              "  </tbody>\n",
              "</table>\n",
              "</div>"
            ],
            "text/plain": [
              "         Marks School Name Grade\n",
              "EVS      160.0   DPS Delhi     B\n",
              "English    NaN   DPS Delhi     E\n",
              "Hindi      NaN   DPS Delhi     E\n",
              "IP         NaN   DPS Delhi     E\n",
              "Maths    190.0   DPS Delhi     A\n",
              "Science  190.0   DPS Delhi     A\n",
              "Urdu     200.0   DPS Delhi     A"
            ]
          },
          "metadata": {
            "tags": []
          },
          "execution_count": 60
        }
      ]
    },
    {
      "cell_type": "code",
      "metadata": {
        "id": "Pbya3L4NHWpc",
        "colab_type": "code",
        "outputId": "47ceeb3d-1dd8-442a-db9e-76c4e3ee4ae0",
        "colab": {
          "base_uri": "https://localhost:8080/",
          "height": 257
        }
      },
      "source": [
        "df[[\"Marks\",\"Grade\"]]"
      ],
      "execution_count": 0,
      "outputs": [
        {
          "output_type": "execute_result",
          "data": {
            "text/html": [
              "<div>\n",
              "<style scoped>\n",
              "    .dataframe tbody tr th:only-of-type {\n",
              "        vertical-align: middle;\n",
              "    }\n",
              "\n",
              "    .dataframe tbody tr th {\n",
              "        vertical-align: top;\n",
              "    }\n",
              "\n",
              "    .dataframe thead th {\n",
              "        text-align: right;\n",
              "    }\n",
              "</style>\n",
              "<table border=\"1\" class=\"dataframe\">\n",
              "  <thead>\n",
              "    <tr style=\"text-align: right;\">\n",
              "      <th></th>\n",
              "      <th>Marks</th>\n",
              "      <th>Grade</th>\n",
              "    </tr>\n",
              "  </thead>\n",
              "  <tbody>\n",
              "    <tr>\n",
              "      <th>EVS</th>\n",
              "      <td>160.0</td>\n",
              "      <td>B</td>\n",
              "    </tr>\n",
              "    <tr>\n",
              "      <th>English</th>\n",
              "      <td>NaN</td>\n",
              "      <td>E</td>\n",
              "    </tr>\n",
              "    <tr>\n",
              "      <th>Hindi</th>\n",
              "      <td>NaN</td>\n",
              "      <td>E</td>\n",
              "    </tr>\n",
              "    <tr>\n",
              "      <th>IP</th>\n",
              "      <td>NaN</td>\n",
              "      <td>E</td>\n",
              "    </tr>\n",
              "    <tr>\n",
              "      <th>Maths</th>\n",
              "      <td>190.0</td>\n",
              "      <td>A</td>\n",
              "    </tr>\n",
              "    <tr>\n",
              "      <th>Science</th>\n",
              "      <td>190.0</td>\n",
              "      <td>A</td>\n",
              "    </tr>\n",
              "    <tr>\n",
              "      <th>Urdu</th>\n",
              "      <td>200.0</td>\n",
              "      <td>A</td>\n",
              "    </tr>\n",
              "  </tbody>\n",
              "</table>\n",
              "</div>"
            ],
            "text/plain": [
              "         Marks Grade\n",
              "EVS      160.0     B\n",
              "English    NaN     E\n",
              "Hindi      NaN     E\n",
              "IP         NaN     E\n",
              "Maths    190.0     A\n",
              "Science  190.0     A\n",
              "Urdu     200.0     A"
            ]
          },
          "metadata": {
            "tags": []
          },
          "execution_count": 61
        }
      ]
    },
    {
      "cell_type": "code",
      "metadata": {
        "id": "ueYc9plrJtYI",
        "colab_type": "code",
        "outputId": "a3cabdfc-657c-449f-e758-69732872b1c2",
        "colab": {
          "base_uri": "https://localhost:8080/",
          "height": 197
        }
      },
      "source": [
        "df.head()"
      ],
      "execution_count": 0,
      "outputs": [
        {
          "output_type": "execute_result",
          "data": {
            "text/html": [
              "<div>\n",
              "<style scoped>\n",
              "    .dataframe tbody tr th:only-of-type {\n",
              "        vertical-align: middle;\n",
              "    }\n",
              "\n",
              "    .dataframe tbody tr th {\n",
              "        vertical-align: top;\n",
              "    }\n",
              "\n",
              "    .dataframe thead th {\n",
              "        text-align: right;\n",
              "    }\n",
              "</style>\n",
              "<table border=\"1\" class=\"dataframe\">\n",
              "  <thead>\n",
              "    <tr style=\"text-align: right;\">\n",
              "      <th></th>\n",
              "      <th>Marks</th>\n",
              "      <th>School Name</th>\n",
              "      <th>Grade</th>\n",
              "    </tr>\n",
              "  </thead>\n",
              "  <tbody>\n",
              "    <tr>\n",
              "      <th>EVS</th>\n",
              "      <td>160.0</td>\n",
              "      <td>DPS Delhi</td>\n",
              "      <td>B</td>\n",
              "    </tr>\n",
              "    <tr>\n",
              "      <th>English</th>\n",
              "      <td>NaN</td>\n",
              "      <td>DPS Delhi</td>\n",
              "      <td>E</td>\n",
              "    </tr>\n",
              "    <tr>\n",
              "      <th>Hindi</th>\n",
              "      <td>NaN</td>\n",
              "      <td>DPS Delhi</td>\n",
              "      <td>E</td>\n",
              "    </tr>\n",
              "    <tr>\n",
              "      <th>IP</th>\n",
              "      <td>NaN</td>\n",
              "      <td>DPS Delhi</td>\n",
              "      <td>E</td>\n",
              "    </tr>\n",
              "    <tr>\n",
              "      <th>Maths</th>\n",
              "      <td>190.0</td>\n",
              "      <td>DPS Delhi</td>\n",
              "      <td>A</td>\n",
              "    </tr>\n",
              "  </tbody>\n",
              "</table>\n",
              "</div>"
            ],
            "text/plain": [
              "         Marks School Name Grade\n",
              "EVS      160.0   DPS Delhi     B\n",
              "English    NaN   DPS Delhi     E\n",
              "Hindi      NaN   DPS Delhi     E\n",
              "IP         NaN   DPS Delhi     E\n",
              "Maths    190.0   DPS Delhi     A"
            ]
          },
          "metadata": {
            "tags": []
          },
          "execution_count": 62
        }
      ]
    },
    {
      "cell_type": "code",
      "metadata": {
        "id": "e5jJCIwTJuks",
        "colab_type": "code",
        "colab": {}
      },
      "source": [
        "df = df.reset_index()"
      ],
      "execution_count": 0,
      "outputs": []
    },
    {
      "cell_type": "code",
      "metadata": {
        "id": "D8PB7-j3Pf3u",
        "colab_type": "code",
        "outputId": "7c5b656e-c5ee-43e2-d78d-1cc35029e6d2",
        "colab": {
          "base_uri": "https://localhost:8080/",
          "height": 257
        }
      },
      "source": [
        "df"
      ],
      "execution_count": 0,
      "outputs": [
        {
          "output_type": "execute_result",
          "data": {
            "text/html": [
              "<div>\n",
              "<style scoped>\n",
              "    .dataframe tbody tr th:only-of-type {\n",
              "        vertical-align: middle;\n",
              "    }\n",
              "\n",
              "    .dataframe tbody tr th {\n",
              "        vertical-align: top;\n",
              "    }\n",
              "\n",
              "    .dataframe thead th {\n",
              "        text-align: right;\n",
              "    }\n",
              "</style>\n",
              "<table border=\"1\" class=\"dataframe\">\n",
              "  <thead>\n",
              "    <tr style=\"text-align: right;\">\n",
              "      <th></th>\n",
              "      <th>index</th>\n",
              "      <th>Marks</th>\n",
              "      <th>School Name</th>\n",
              "      <th>Grade</th>\n",
              "    </tr>\n",
              "  </thead>\n",
              "  <tbody>\n",
              "    <tr>\n",
              "      <th>0</th>\n",
              "      <td>EVS</td>\n",
              "      <td>160.0</td>\n",
              "      <td>DPS Delhi</td>\n",
              "      <td>B</td>\n",
              "    </tr>\n",
              "    <tr>\n",
              "      <th>1</th>\n",
              "      <td>English</td>\n",
              "      <td>NaN</td>\n",
              "      <td>DPS Delhi</td>\n",
              "      <td>E</td>\n",
              "    </tr>\n",
              "    <tr>\n",
              "      <th>2</th>\n",
              "      <td>Hindi</td>\n",
              "      <td>NaN</td>\n",
              "      <td>DPS Delhi</td>\n",
              "      <td>E</td>\n",
              "    </tr>\n",
              "    <tr>\n",
              "      <th>3</th>\n",
              "      <td>IP</td>\n",
              "      <td>NaN</td>\n",
              "      <td>DPS Delhi</td>\n",
              "      <td>E</td>\n",
              "    </tr>\n",
              "    <tr>\n",
              "      <th>4</th>\n",
              "      <td>Maths</td>\n",
              "      <td>190.0</td>\n",
              "      <td>DPS Delhi</td>\n",
              "      <td>A</td>\n",
              "    </tr>\n",
              "    <tr>\n",
              "      <th>5</th>\n",
              "      <td>Science</td>\n",
              "      <td>190.0</td>\n",
              "      <td>DPS Delhi</td>\n",
              "      <td>A</td>\n",
              "    </tr>\n",
              "    <tr>\n",
              "      <th>6</th>\n",
              "      <td>Urdu</td>\n",
              "      <td>200.0</td>\n",
              "      <td>DPS Delhi</td>\n",
              "      <td>A</td>\n",
              "    </tr>\n",
              "  </tbody>\n",
              "</table>\n",
              "</div>"
            ],
            "text/plain": [
              "     index  Marks School Name Grade\n",
              "0      EVS  160.0   DPS Delhi     B\n",
              "1  English    NaN   DPS Delhi     E\n",
              "2    Hindi    NaN   DPS Delhi     E\n",
              "3       IP    NaN   DPS Delhi     E\n",
              "4    Maths  190.0   DPS Delhi     A\n",
              "5  Science  190.0   DPS Delhi     A\n",
              "6     Urdu  200.0   DPS Delhi     A"
            ]
          },
          "metadata": {
            "tags": []
          },
          "execution_count": 79
        }
      ]
    },
    {
      "cell_type": "code",
      "metadata": {
        "id": "Jy83F25RPfqb",
        "colab_type": "code",
        "outputId": "dd40d9fa-495b-476d-ae4f-0396538b73e8",
        "colab": {
          "base_uri": "https://localhost:8080/",
          "height": 257
        }
      },
      "source": [
        "df.rename(columns={\"index\":\"Subjects\"},inplace=True)\n",
        "df"
      ],
      "execution_count": 0,
      "outputs": [
        {
          "output_type": "execute_result",
          "data": {
            "text/html": [
              "<div>\n",
              "<style scoped>\n",
              "    .dataframe tbody tr th:only-of-type {\n",
              "        vertical-align: middle;\n",
              "    }\n",
              "\n",
              "    .dataframe tbody tr th {\n",
              "        vertical-align: top;\n",
              "    }\n",
              "\n",
              "    .dataframe thead th {\n",
              "        text-align: right;\n",
              "    }\n",
              "</style>\n",
              "<table border=\"1\" class=\"dataframe\">\n",
              "  <thead>\n",
              "    <tr style=\"text-align: right;\">\n",
              "      <th></th>\n",
              "      <th>Subjects</th>\n",
              "      <th>Marks</th>\n",
              "      <th>School Name</th>\n",
              "      <th>Grade</th>\n",
              "    </tr>\n",
              "  </thead>\n",
              "  <tbody>\n",
              "    <tr>\n",
              "      <th>0</th>\n",
              "      <td>EVS</td>\n",
              "      <td>160.0</td>\n",
              "      <td>DPS Delhi</td>\n",
              "      <td>B</td>\n",
              "    </tr>\n",
              "    <tr>\n",
              "      <th>1</th>\n",
              "      <td>English</td>\n",
              "      <td>NaN</td>\n",
              "      <td>DPS Delhi</td>\n",
              "      <td>E</td>\n",
              "    </tr>\n",
              "    <tr>\n",
              "      <th>2</th>\n",
              "      <td>Hindi</td>\n",
              "      <td>NaN</td>\n",
              "      <td>DPS Delhi</td>\n",
              "      <td>E</td>\n",
              "    </tr>\n",
              "    <tr>\n",
              "      <th>3</th>\n",
              "      <td>IP</td>\n",
              "      <td>NaN</td>\n",
              "      <td>DPS Delhi</td>\n",
              "      <td>E</td>\n",
              "    </tr>\n",
              "    <tr>\n",
              "      <th>4</th>\n",
              "      <td>Maths</td>\n",
              "      <td>190.0</td>\n",
              "      <td>DPS Delhi</td>\n",
              "      <td>A</td>\n",
              "    </tr>\n",
              "    <tr>\n",
              "      <th>5</th>\n",
              "      <td>Science</td>\n",
              "      <td>190.0</td>\n",
              "      <td>DPS Delhi</td>\n",
              "      <td>A</td>\n",
              "    </tr>\n",
              "    <tr>\n",
              "      <th>6</th>\n",
              "      <td>Urdu</td>\n",
              "      <td>200.0</td>\n",
              "      <td>DPS Delhi</td>\n",
              "      <td>A</td>\n",
              "    </tr>\n",
              "  </tbody>\n",
              "</table>\n",
              "</div>"
            ],
            "text/plain": [
              "  Subjects  Marks School Name Grade\n",
              "0      EVS  160.0   DPS Delhi     B\n",
              "1  English    NaN   DPS Delhi     E\n",
              "2    Hindi    NaN   DPS Delhi     E\n",
              "3       IP    NaN   DPS Delhi     E\n",
              "4    Maths  190.0   DPS Delhi     A\n",
              "5  Science  190.0   DPS Delhi     A\n",
              "6     Urdu  200.0   DPS Delhi     A"
            ]
          },
          "metadata": {
            "tags": []
          },
          "execution_count": 80
        }
      ]
    },
    {
      "cell_type": "code",
      "metadata": {
        "id": "QchtWewqbfZK",
        "colab_type": "code",
        "outputId": "f925b3b6-79b0-4159-bf50-5ecfad3f5cf1",
        "colab": {
          "base_uri": "https://localhost:8080/",
          "height": 100
        }
      },
      "source": [
        "df.isnull().sum()"
      ],
      "execution_count": 0,
      "outputs": [
        {
          "output_type": "execute_result",
          "data": {
            "text/plain": [
              "Subjects       0\n",
              "Marks          3\n",
              "School Name    0\n",
              "Grade          0\n",
              "dtype: int64"
            ]
          },
          "metadata": {
            "tags": []
          },
          "execution_count": 81
        }
      ]
    },
    {
      "cell_type": "code",
      "metadata": {
        "id": "5mEDJWT3bfSg",
        "colab_type": "code",
        "outputId": "9a835aa1-6f6d-4cb3-ab25-9d5bd3a1708a",
        "colab": {
          "base_uri": "https://localhost:8080/",
          "height": 257
        }
      },
      "source": [
        "new_df = df\n",
        "df"
      ],
      "execution_count": 0,
      "outputs": [
        {
          "output_type": "execute_result",
          "data": {
            "text/html": [
              "<div>\n",
              "<style scoped>\n",
              "    .dataframe tbody tr th:only-of-type {\n",
              "        vertical-align: middle;\n",
              "    }\n",
              "\n",
              "    .dataframe tbody tr th {\n",
              "        vertical-align: top;\n",
              "    }\n",
              "\n",
              "    .dataframe thead th {\n",
              "        text-align: right;\n",
              "    }\n",
              "</style>\n",
              "<table border=\"1\" class=\"dataframe\">\n",
              "  <thead>\n",
              "    <tr style=\"text-align: right;\">\n",
              "      <th></th>\n",
              "      <th>Subjects</th>\n",
              "      <th>Marks</th>\n",
              "      <th>School Name</th>\n",
              "      <th>Grade</th>\n",
              "    </tr>\n",
              "  </thead>\n",
              "  <tbody>\n",
              "    <tr>\n",
              "      <th>0</th>\n",
              "      <td>EVS</td>\n",
              "      <td>160.0</td>\n",
              "      <td>DPS Delhi</td>\n",
              "      <td>B</td>\n",
              "    </tr>\n",
              "    <tr>\n",
              "      <th>1</th>\n",
              "      <td>English</td>\n",
              "      <td>NaN</td>\n",
              "      <td>DPS Delhi</td>\n",
              "      <td>E</td>\n",
              "    </tr>\n",
              "    <tr>\n",
              "      <th>2</th>\n",
              "      <td>Hindi</td>\n",
              "      <td>NaN</td>\n",
              "      <td>DPS Delhi</td>\n",
              "      <td>E</td>\n",
              "    </tr>\n",
              "    <tr>\n",
              "      <th>3</th>\n",
              "      <td>IP</td>\n",
              "      <td>NaN</td>\n",
              "      <td>DPS Delhi</td>\n",
              "      <td>E</td>\n",
              "    </tr>\n",
              "    <tr>\n",
              "      <th>4</th>\n",
              "      <td>Maths</td>\n",
              "      <td>190.0</td>\n",
              "      <td>DPS Delhi</td>\n",
              "      <td>A</td>\n",
              "    </tr>\n",
              "    <tr>\n",
              "      <th>5</th>\n",
              "      <td>Science</td>\n",
              "      <td>190.0</td>\n",
              "      <td>DPS Delhi</td>\n",
              "      <td>A</td>\n",
              "    </tr>\n",
              "    <tr>\n",
              "      <th>6</th>\n",
              "      <td>Urdu</td>\n",
              "      <td>200.0</td>\n",
              "      <td>DPS Delhi</td>\n",
              "      <td>A</td>\n",
              "    </tr>\n",
              "  </tbody>\n",
              "</table>\n",
              "</div>"
            ],
            "text/plain": [
              "  Subjects  Marks School Name Grade\n",
              "0      EVS  160.0   DPS Delhi     B\n",
              "1  English    NaN   DPS Delhi     E\n",
              "2    Hindi    NaN   DPS Delhi     E\n",
              "3       IP    NaN   DPS Delhi     E\n",
              "4    Maths  190.0   DPS Delhi     A\n",
              "5  Science  190.0   DPS Delhi     A\n",
              "6     Urdu  200.0   DPS Delhi     A"
            ]
          },
          "metadata": {
            "tags": []
          },
          "execution_count": 82
        }
      ]
    },
    {
      "cell_type": "code",
      "metadata": {
        "id": "EqxOM_qoPfgU",
        "colab_type": "code",
        "outputId": "ef2c7e4c-bd0d-4ce5-ba15-ba94661f3273",
        "colab": {
          "base_uri": "https://localhost:8080/",
          "height": 257
        }
      },
      "source": [
        "df[\"Marks\"].fillna(0,inplace=True)\n",
        "df"
      ],
      "execution_count": 0,
      "outputs": [
        {
          "output_type": "execute_result",
          "data": {
            "text/html": [
              "<div>\n",
              "<style scoped>\n",
              "    .dataframe tbody tr th:only-of-type {\n",
              "        vertical-align: middle;\n",
              "    }\n",
              "\n",
              "    .dataframe tbody tr th {\n",
              "        vertical-align: top;\n",
              "    }\n",
              "\n",
              "    .dataframe thead th {\n",
              "        text-align: right;\n",
              "    }\n",
              "</style>\n",
              "<table border=\"1\" class=\"dataframe\">\n",
              "  <thead>\n",
              "    <tr style=\"text-align: right;\">\n",
              "      <th></th>\n",
              "      <th>Subjects</th>\n",
              "      <th>Marks</th>\n",
              "      <th>School Name</th>\n",
              "      <th>Grade</th>\n",
              "    </tr>\n",
              "  </thead>\n",
              "  <tbody>\n",
              "    <tr>\n",
              "      <th>0</th>\n",
              "      <td>EVS</td>\n",
              "      <td>160.0</td>\n",
              "      <td>DPS Delhi</td>\n",
              "      <td>B</td>\n",
              "    </tr>\n",
              "    <tr>\n",
              "      <th>1</th>\n",
              "      <td>English</td>\n",
              "      <td>0.0</td>\n",
              "      <td>DPS Delhi</td>\n",
              "      <td>E</td>\n",
              "    </tr>\n",
              "    <tr>\n",
              "      <th>2</th>\n",
              "      <td>Hindi</td>\n",
              "      <td>0.0</td>\n",
              "      <td>DPS Delhi</td>\n",
              "      <td>E</td>\n",
              "    </tr>\n",
              "    <tr>\n",
              "      <th>3</th>\n",
              "      <td>IP</td>\n",
              "      <td>0.0</td>\n",
              "      <td>DPS Delhi</td>\n",
              "      <td>E</td>\n",
              "    </tr>\n",
              "    <tr>\n",
              "      <th>4</th>\n",
              "      <td>Maths</td>\n",
              "      <td>190.0</td>\n",
              "      <td>DPS Delhi</td>\n",
              "      <td>A</td>\n",
              "    </tr>\n",
              "    <tr>\n",
              "      <th>5</th>\n",
              "      <td>Science</td>\n",
              "      <td>190.0</td>\n",
              "      <td>DPS Delhi</td>\n",
              "      <td>A</td>\n",
              "    </tr>\n",
              "    <tr>\n",
              "      <th>6</th>\n",
              "      <td>Urdu</td>\n",
              "      <td>200.0</td>\n",
              "      <td>DPS Delhi</td>\n",
              "      <td>A</td>\n",
              "    </tr>\n",
              "  </tbody>\n",
              "</table>\n",
              "</div>"
            ],
            "text/plain": [
              "  Subjects  Marks School Name Grade\n",
              "0      EVS  160.0   DPS Delhi     B\n",
              "1  English    0.0   DPS Delhi     E\n",
              "2    Hindi    0.0   DPS Delhi     E\n",
              "3       IP    0.0   DPS Delhi     E\n",
              "4    Maths  190.0   DPS Delhi     A\n",
              "5  Science  190.0   DPS Delhi     A\n",
              "6     Urdu  200.0   DPS Delhi     A"
            ]
          },
          "metadata": {
            "tags": []
          },
          "execution_count": 83
        }
      ]
    },
    {
      "cell_type": "code",
      "metadata": {
        "id": "R99Np6e2JugE",
        "colab_type": "code",
        "outputId": "8a2a5f4c-0ee6-44bf-e460-437935032c2e",
        "colab": {
          "base_uri": "https://localhost:8080/",
          "height": 100
        }
      },
      "source": [
        "df.iloc[2]"
      ],
      "execution_count": 0,
      "outputs": [
        {
          "output_type": "execute_result",
          "data": {
            "text/plain": [
              "Subjects           Hindi\n",
              "Marks                  0\n",
              "School Name    DPS Delhi\n",
              "Grade                  E\n",
              "Name: 2, dtype: object"
            ]
          },
          "metadata": {
            "tags": []
          },
          "execution_count": 84
        }
      ]
    },
    {
      "cell_type": "code",
      "metadata": {
        "id": "y-Op_9X-goty",
        "colab_type": "code",
        "outputId": "37609e84-e21b-4536-b76f-ce7177db6b88",
        "colab": {
          "base_uri": "https://localhost:8080/",
          "height": 33
        }
      },
      "source": [
        "df.iloc[2,2]"
      ],
      "execution_count": 0,
      "outputs": [
        {
          "output_type": "execute_result",
          "data": {
            "text/plain": [
              "'DPS Delhi'"
            ]
          },
          "metadata": {
            "tags": []
          },
          "execution_count": 85
        }
      ]
    },
    {
      "cell_type": "code",
      "metadata": {
        "id": "sRscwf7hgolF",
        "colab_type": "code",
        "outputId": "c029cd7e-bd3e-4a3b-ddbb-4c4ed64ad907",
        "colab": {
          "base_uri": "https://localhost:8080/",
          "height": 100
        }
      },
      "source": [
        "df.iloc[2].fillna(0)"
      ],
      "execution_count": 0,
      "outputs": [
        {
          "output_type": "execute_result",
          "data": {
            "text/plain": [
              "Subjects           Hindi\n",
              "Marks                  0\n",
              "School Name    DPS Delhi\n",
              "Grade                  E\n",
              "Name: 2, dtype: object"
            ]
          },
          "metadata": {
            "tags": []
          },
          "execution_count": 86
        }
      ]
    },
    {
      "cell_type": "code",
      "metadata": {
        "id": "FUOamn47g8b5",
        "colab_type": "code",
        "outputId": "d387f322-d654-4b5e-8ccd-fec0a62429ba",
        "colab": {
          "base_uri": "https://localhost:8080/",
          "height": 137
        }
      },
      "source": [
        "df[df[\"Grade\"]==\"A\"]"
      ],
      "execution_count": 0,
      "outputs": [
        {
          "output_type": "execute_result",
          "data": {
            "text/html": [
              "<div>\n",
              "<style scoped>\n",
              "    .dataframe tbody tr th:only-of-type {\n",
              "        vertical-align: middle;\n",
              "    }\n",
              "\n",
              "    .dataframe tbody tr th {\n",
              "        vertical-align: top;\n",
              "    }\n",
              "\n",
              "    .dataframe thead th {\n",
              "        text-align: right;\n",
              "    }\n",
              "</style>\n",
              "<table border=\"1\" class=\"dataframe\">\n",
              "  <thead>\n",
              "    <tr style=\"text-align: right;\">\n",
              "      <th></th>\n",
              "      <th>Subjects</th>\n",
              "      <th>Marks</th>\n",
              "      <th>School Name</th>\n",
              "      <th>Grade</th>\n",
              "    </tr>\n",
              "  </thead>\n",
              "  <tbody>\n",
              "    <tr>\n",
              "      <th>4</th>\n",
              "      <td>Maths</td>\n",
              "      <td>190.0</td>\n",
              "      <td>DPS Delhi</td>\n",
              "      <td>A</td>\n",
              "    </tr>\n",
              "    <tr>\n",
              "      <th>5</th>\n",
              "      <td>Science</td>\n",
              "      <td>190.0</td>\n",
              "      <td>DPS Delhi</td>\n",
              "      <td>A</td>\n",
              "    </tr>\n",
              "    <tr>\n",
              "      <th>6</th>\n",
              "      <td>Urdu</td>\n",
              "      <td>200.0</td>\n",
              "      <td>DPS Delhi</td>\n",
              "      <td>A</td>\n",
              "    </tr>\n",
              "  </tbody>\n",
              "</table>\n",
              "</div>"
            ],
            "text/plain": [
              "  Subjects  Marks School Name Grade\n",
              "4    Maths  190.0   DPS Delhi     A\n",
              "5  Science  190.0   DPS Delhi     A\n",
              "6     Urdu  200.0   DPS Delhi     A"
            ]
          },
          "metadata": {
            "tags": []
          },
          "execution_count": 87
        }
      ]
    },
    {
      "cell_type": "code",
      "metadata": {
        "id": "b-a3F1DSg9Cv",
        "colab_type": "code",
        "outputId": "c5e4366d-adf0-4c67-8bea-b9a01a89b069",
        "colab": {
          "base_uri": "https://localhost:8080/",
          "height": 257
        }
      },
      "source": [
        "df"
      ],
      "execution_count": 0,
      "outputs": [
        {
          "output_type": "execute_result",
          "data": {
            "text/html": [
              "<div>\n",
              "<style scoped>\n",
              "    .dataframe tbody tr th:only-of-type {\n",
              "        vertical-align: middle;\n",
              "    }\n",
              "\n",
              "    .dataframe tbody tr th {\n",
              "        vertical-align: top;\n",
              "    }\n",
              "\n",
              "    .dataframe thead th {\n",
              "        text-align: right;\n",
              "    }\n",
              "</style>\n",
              "<table border=\"1\" class=\"dataframe\">\n",
              "  <thead>\n",
              "    <tr style=\"text-align: right;\">\n",
              "      <th></th>\n",
              "      <th>Subjects</th>\n",
              "      <th>Marks</th>\n",
              "      <th>School Name</th>\n",
              "      <th>Grade</th>\n",
              "    </tr>\n",
              "  </thead>\n",
              "  <tbody>\n",
              "    <tr>\n",
              "      <th>0</th>\n",
              "      <td>EVS</td>\n",
              "      <td>160.0</td>\n",
              "      <td>DPS Delhi</td>\n",
              "      <td>B</td>\n",
              "    </tr>\n",
              "    <tr>\n",
              "      <th>1</th>\n",
              "      <td>English</td>\n",
              "      <td>0.0</td>\n",
              "      <td>DPS Delhi</td>\n",
              "      <td>E</td>\n",
              "    </tr>\n",
              "    <tr>\n",
              "      <th>2</th>\n",
              "      <td>Hindi</td>\n",
              "      <td>0.0</td>\n",
              "      <td>DPS Delhi</td>\n",
              "      <td>E</td>\n",
              "    </tr>\n",
              "    <tr>\n",
              "      <th>3</th>\n",
              "      <td>IP</td>\n",
              "      <td>0.0</td>\n",
              "      <td>DPS Delhi</td>\n",
              "      <td>E</td>\n",
              "    </tr>\n",
              "    <tr>\n",
              "      <th>4</th>\n",
              "      <td>Maths</td>\n",
              "      <td>190.0</td>\n",
              "      <td>DPS Delhi</td>\n",
              "      <td>A</td>\n",
              "    </tr>\n",
              "    <tr>\n",
              "      <th>5</th>\n",
              "      <td>Science</td>\n",
              "      <td>190.0</td>\n",
              "      <td>DPS Delhi</td>\n",
              "      <td>A</td>\n",
              "    </tr>\n",
              "    <tr>\n",
              "      <th>6</th>\n",
              "      <td>Urdu</td>\n",
              "      <td>200.0</td>\n",
              "      <td>DPS Delhi</td>\n",
              "      <td>A</td>\n",
              "    </tr>\n",
              "  </tbody>\n",
              "</table>\n",
              "</div>"
            ],
            "text/plain": [
              "  Subjects  Marks School Name Grade\n",
              "0      EVS  160.0   DPS Delhi     B\n",
              "1  English    0.0   DPS Delhi     E\n",
              "2    Hindi    0.0   DPS Delhi     E\n",
              "3       IP    0.0   DPS Delhi     E\n",
              "4    Maths  190.0   DPS Delhi     A\n",
              "5  Science  190.0   DPS Delhi     A\n",
              "6     Urdu  200.0   DPS Delhi     A"
            ]
          },
          "metadata": {
            "tags": []
          },
          "execution_count": 88
        }
      ]
    },
    {
      "cell_type": "code",
      "metadata": {
        "id": "pYLZV8-Ig8Tk",
        "colab_type": "code",
        "outputId": "9f56093d-1fa6-4d2d-bc31-7e5fe83a76e9",
        "colab": {
          "base_uri": "https://localhost:8080/",
          "height": 257
        }
      },
      "source": [
        "df.iloc[1,1]=90\n",
        "df"
      ],
      "execution_count": 0,
      "outputs": [
        {
          "output_type": "execute_result",
          "data": {
            "text/html": [
              "<div>\n",
              "<style scoped>\n",
              "    .dataframe tbody tr th:only-of-type {\n",
              "        vertical-align: middle;\n",
              "    }\n",
              "\n",
              "    .dataframe tbody tr th {\n",
              "        vertical-align: top;\n",
              "    }\n",
              "\n",
              "    .dataframe thead th {\n",
              "        text-align: right;\n",
              "    }\n",
              "</style>\n",
              "<table border=\"1\" class=\"dataframe\">\n",
              "  <thead>\n",
              "    <tr style=\"text-align: right;\">\n",
              "      <th></th>\n",
              "      <th>Subjects</th>\n",
              "      <th>Marks</th>\n",
              "      <th>School Name</th>\n",
              "      <th>Grade</th>\n",
              "    </tr>\n",
              "  </thead>\n",
              "  <tbody>\n",
              "    <tr>\n",
              "      <th>0</th>\n",
              "      <td>EVS</td>\n",
              "      <td>160.0</td>\n",
              "      <td>DPS Delhi</td>\n",
              "      <td>B</td>\n",
              "    </tr>\n",
              "    <tr>\n",
              "      <th>1</th>\n",
              "      <td>English</td>\n",
              "      <td>90.0</td>\n",
              "      <td>DPS Delhi</td>\n",
              "      <td>E</td>\n",
              "    </tr>\n",
              "    <tr>\n",
              "      <th>2</th>\n",
              "      <td>Hindi</td>\n",
              "      <td>0.0</td>\n",
              "      <td>DPS Delhi</td>\n",
              "      <td>E</td>\n",
              "    </tr>\n",
              "    <tr>\n",
              "      <th>3</th>\n",
              "      <td>IP</td>\n",
              "      <td>0.0</td>\n",
              "      <td>DPS Delhi</td>\n",
              "      <td>E</td>\n",
              "    </tr>\n",
              "    <tr>\n",
              "      <th>4</th>\n",
              "      <td>Maths</td>\n",
              "      <td>190.0</td>\n",
              "      <td>DPS Delhi</td>\n",
              "      <td>A</td>\n",
              "    </tr>\n",
              "    <tr>\n",
              "      <th>5</th>\n",
              "      <td>Science</td>\n",
              "      <td>190.0</td>\n",
              "      <td>DPS Delhi</td>\n",
              "      <td>A</td>\n",
              "    </tr>\n",
              "    <tr>\n",
              "      <th>6</th>\n",
              "      <td>Urdu</td>\n",
              "      <td>200.0</td>\n",
              "      <td>DPS Delhi</td>\n",
              "      <td>A</td>\n",
              "    </tr>\n",
              "  </tbody>\n",
              "</table>\n",
              "</div>"
            ],
            "text/plain": [
              "  Subjects  Marks School Name Grade\n",
              "0      EVS  160.0   DPS Delhi     B\n",
              "1  English   90.0   DPS Delhi     E\n",
              "2    Hindi    0.0   DPS Delhi     E\n",
              "3       IP    0.0   DPS Delhi     E\n",
              "4    Maths  190.0   DPS Delhi     A\n",
              "5  Science  190.0   DPS Delhi     A\n",
              "6     Urdu  200.0   DPS Delhi     A"
            ]
          },
          "metadata": {
            "tags": []
          },
          "execution_count": 90
        }
      ]
    },
    {
      "cell_type": "code",
      "metadata": {
        "id": "7EkMxmHzhoRp",
        "colab_type": "code",
        "outputId": "1be67771-66e5-47ec-cda1-c0ee5cfb7965",
        "colab": {
          "base_uri": "https://localhost:8080/",
          "height": 257
        }
      },
      "source": [
        "df.sort_values(\"Marks\",ascending=False)"
      ],
      "execution_count": 0,
      "outputs": [
        {
          "output_type": "execute_result",
          "data": {
            "text/html": [
              "<div>\n",
              "<style scoped>\n",
              "    .dataframe tbody tr th:only-of-type {\n",
              "        vertical-align: middle;\n",
              "    }\n",
              "\n",
              "    .dataframe tbody tr th {\n",
              "        vertical-align: top;\n",
              "    }\n",
              "\n",
              "    .dataframe thead th {\n",
              "        text-align: right;\n",
              "    }\n",
              "</style>\n",
              "<table border=\"1\" class=\"dataframe\">\n",
              "  <thead>\n",
              "    <tr style=\"text-align: right;\">\n",
              "      <th></th>\n",
              "      <th>Subjects</th>\n",
              "      <th>Marks</th>\n",
              "      <th>School Name</th>\n",
              "      <th>Grade</th>\n",
              "    </tr>\n",
              "  </thead>\n",
              "  <tbody>\n",
              "    <tr>\n",
              "      <th>6</th>\n",
              "      <td>Urdu</td>\n",
              "      <td>200.0</td>\n",
              "      <td>DPS Delhi</td>\n",
              "      <td>A</td>\n",
              "    </tr>\n",
              "    <tr>\n",
              "      <th>4</th>\n",
              "      <td>Maths</td>\n",
              "      <td>190.0</td>\n",
              "      <td>DPS Delhi</td>\n",
              "      <td>A</td>\n",
              "    </tr>\n",
              "    <tr>\n",
              "      <th>5</th>\n",
              "      <td>Science</td>\n",
              "      <td>190.0</td>\n",
              "      <td>DPS Delhi</td>\n",
              "      <td>A</td>\n",
              "    </tr>\n",
              "    <tr>\n",
              "      <th>0</th>\n",
              "      <td>EVS</td>\n",
              "      <td>160.0</td>\n",
              "      <td>DPS Delhi</td>\n",
              "      <td>B</td>\n",
              "    </tr>\n",
              "    <tr>\n",
              "      <th>1</th>\n",
              "      <td>English</td>\n",
              "      <td>90.0</td>\n",
              "      <td>DPS Delhi</td>\n",
              "      <td>E</td>\n",
              "    </tr>\n",
              "    <tr>\n",
              "      <th>2</th>\n",
              "      <td>Hindi</td>\n",
              "      <td>0.0</td>\n",
              "      <td>DPS Delhi</td>\n",
              "      <td>E</td>\n",
              "    </tr>\n",
              "    <tr>\n",
              "      <th>3</th>\n",
              "      <td>IP</td>\n",
              "      <td>0.0</td>\n",
              "      <td>DPS Delhi</td>\n",
              "      <td>E</td>\n",
              "    </tr>\n",
              "  </tbody>\n",
              "</table>\n",
              "</div>"
            ],
            "text/plain": [
              "  Subjects  Marks School Name Grade\n",
              "6     Urdu  200.0   DPS Delhi     A\n",
              "4    Maths  190.0   DPS Delhi     A\n",
              "5  Science  190.0   DPS Delhi     A\n",
              "0      EVS  160.0   DPS Delhi     B\n",
              "1  English   90.0   DPS Delhi     E\n",
              "2    Hindi    0.0   DPS Delhi     E\n",
              "3       IP    0.0   DPS Delhi     E"
            ]
          },
          "metadata": {
            "tags": []
          },
          "execution_count": 91
        }
      ]
    },
    {
      "cell_type": "code",
      "metadata": {
        "id": "05w-OXTkhoJU",
        "colab_type": "code",
        "colab": {}
      },
      "source": [
        "grade=[]\n",
        "for i in range(0,len(df)):\n",
        "  if df.iloc[i,1] >= 190:\n",
        "    grade.append(\"A\")\n",
        "  else:\n",
        "    grade.append(\"B\")"
      ],
      "execution_count": 0,
      "outputs": []
    },
    {
      "cell_type": "code",
      "metadata": {
        "id": "93oQRsoNhn-H",
        "colab_type": "code",
        "outputId": "3acb3296-3727-4866-d2fe-7458ff4ef8d0",
        "colab": {
          "base_uri": "https://localhost:8080/",
          "height": 33
        }
      },
      "source": [
        "grade"
      ],
      "execution_count": 0,
      "outputs": [
        {
          "output_type": "execute_result",
          "data": {
            "text/plain": [
              "['B', 'B', 'B', 'B', 'A', 'A', 'A']"
            ]
          },
          "metadata": {
            "tags": []
          },
          "execution_count": 93
        }
      ]
    },
    {
      "cell_type": "code",
      "metadata": {
        "id": "Xo99gTonJuW7",
        "colab_type": "code",
        "outputId": "ace8f60f-5a94-43c1-c06f-1d7a4d0758bc",
        "colab": {
          "base_uri": "https://localhost:8080/",
          "height": 257
        }
      },
      "source": [
        "df[\"Grade\"] = grade\n",
        "df"
      ],
      "execution_count": 0,
      "outputs": [
        {
          "output_type": "execute_result",
          "data": {
            "text/html": [
              "<div>\n",
              "<style scoped>\n",
              "    .dataframe tbody tr th:only-of-type {\n",
              "        vertical-align: middle;\n",
              "    }\n",
              "\n",
              "    .dataframe tbody tr th {\n",
              "        vertical-align: top;\n",
              "    }\n",
              "\n",
              "    .dataframe thead th {\n",
              "        text-align: right;\n",
              "    }\n",
              "</style>\n",
              "<table border=\"1\" class=\"dataframe\">\n",
              "  <thead>\n",
              "    <tr style=\"text-align: right;\">\n",
              "      <th></th>\n",
              "      <th>Subjects</th>\n",
              "      <th>Marks</th>\n",
              "      <th>School Name</th>\n",
              "      <th>Grade</th>\n",
              "    </tr>\n",
              "  </thead>\n",
              "  <tbody>\n",
              "    <tr>\n",
              "      <th>0</th>\n",
              "      <td>EVS</td>\n",
              "      <td>160.0</td>\n",
              "      <td>DPS Delhi</td>\n",
              "      <td>B</td>\n",
              "    </tr>\n",
              "    <tr>\n",
              "      <th>1</th>\n",
              "      <td>English</td>\n",
              "      <td>90.0</td>\n",
              "      <td>DPS Delhi</td>\n",
              "      <td>B</td>\n",
              "    </tr>\n",
              "    <tr>\n",
              "      <th>2</th>\n",
              "      <td>Hindi</td>\n",
              "      <td>0.0</td>\n",
              "      <td>DPS Delhi</td>\n",
              "      <td>B</td>\n",
              "    </tr>\n",
              "    <tr>\n",
              "      <th>3</th>\n",
              "      <td>IP</td>\n",
              "      <td>0.0</td>\n",
              "      <td>DPS Delhi</td>\n",
              "      <td>B</td>\n",
              "    </tr>\n",
              "    <tr>\n",
              "      <th>4</th>\n",
              "      <td>Maths</td>\n",
              "      <td>190.0</td>\n",
              "      <td>DPS Delhi</td>\n",
              "      <td>A</td>\n",
              "    </tr>\n",
              "    <tr>\n",
              "      <th>5</th>\n",
              "      <td>Science</td>\n",
              "      <td>190.0</td>\n",
              "      <td>DPS Delhi</td>\n",
              "      <td>A</td>\n",
              "    </tr>\n",
              "    <tr>\n",
              "      <th>6</th>\n",
              "      <td>Urdu</td>\n",
              "      <td>200.0</td>\n",
              "      <td>DPS Delhi</td>\n",
              "      <td>A</td>\n",
              "    </tr>\n",
              "  </tbody>\n",
              "</table>\n",
              "</div>"
            ],
            "text/plain": [
              "  Subjects  Marks School Name Grade\n",
              "0      EVS  160.0   DPS Delhi     B\n",
              "1  English   90.0   DPS Delhi     B\n",
              "2    Hindi    0.0   DPS Delhi     B\n",
              "3       IP    0.0   DPS Delhi     B\n",
              "4    Maths  190.0   DPS Delhi     A\n",
              "5  Science  190.0   DPS Delhi     A\n",
              "6     Urdu  200.0   DPS Delhi     A"
            ]
          },
          "metadata": {
            "tags": []
          },
          "execution_count": 94
        }
      ]
    },
    {
      "cell_type": "code",
      "metadata": {
        "id": "eI6Z8lt4i9kd",
        "colab_type": "code",
        "outputId": "dfedd242-5477-4c2e-8074-6b3746eaf62e",
        "colab": {
          "base_uri": "https://localhost:8080/",
          "height": 33
        }
      },
      "source": [
        "df[\"Marks\"][i]"
      ],
      "execution_count": 0,
      "outputs": [
        {
          "output_type": "execute_result",
          "data": {
            "text/plain": [
              "200.0"
            ]
          },
          "metadata": {
            "tags": []
          },
          "execution_count": 95
        }
      ]
    },
    {
      "cell_type": "code",
      "metadata": {
        "id": "H0tHHBuqi9ad",
        "colab_type": "code",
        "outputId": "56aa91eb-ded0-439d-eac4-9d5f19f0345f",
        "colab": {
          "base_uri": "https://localhost:8080/",
          "height": 200
        }
      },
      "source": [
        "df.info()"
      ],
      "execution_count": 0,
      "outputs": [
        {
          "output_type": "stream",
          "text": [
            "<class 'pandas.core.frame.DataFrame'>\n",
            "RangeIndex: 7 entries, 0 to 6\n",
            "Data columns (total 4 columns):\n",
            " #   Column       Non-Null Count  Dtype  \n",
            "---  ------       --------------  -----  \n",
            " 0   Subjects     7 non-null      object \n",
            " 1   Marks        7 non-null      float64\n",
            " 2   School Name  7 non-null      object \n",
            " 3   Grade        7 non-null      object \n",
            "dtypes: float64(1), object(3)\n",
            "memory usage: 352.0+ bytes\n"
          ],
          "name": "stdout"
        }
      ]
    },
    {
      "cell_type": "code",
      "metadata": {
        "id": "ddsNPiqOJuPQ",
        "colab_type": "code",
        "colab": {}
      },
      "source": [
        "# Data Visuulaization\n",
        "# matplotlib/seaborn \n",
        "import matplotlib.pyplot as plt"
      ],
      "execution_count": 0,
      "outputs": []
    },
    {
      "cell_type": "code",
      "metadata": {
        "id": "Fuct32GPQH3l",
        "colab_type": "code",
        "outputId": "a73ce7d4-8a5e-4d63-9439-db89bfb55562",
        "colab": {
          "base_uri": "https://localhost:8080/",
          "height": 295
        }
      },
      "source": [
        "x1 = [\"Maths\",\"English\",\"Hindi\",\"IP\",\"Science\"]\n",
        "y1 = [40,80,70,79,30]\n",
        "x2 = [\"EVS\",\"A\",\"B\",\"C\",\"D\"]\n",
        "y2 = [20,30,40,50,60]\n",
        "plt.title(\"Bar Graph\",fontsize=12)\n",
        "plt.xlabel(\"subjects\")\n",
        "plt.ylabel(\"Marks\")\n",
        "plt.bar(x1,y1,width=0.5,color=[\"red\"],label=\"Example 1\")\n",
        "plt.bar(x2,y2,width=0.5,color=[\"blue\"],label=\"Example 2\")\n",
        "plt.legend(loc=1)\n",
        "plt.show()"
      ],
      "execution_count": 0,
      "outputs": [
        {
          "output_type": "display_data",
          "data": {
            "image/png": "[encoded data removed]",
            "text/plain": [
              "<Figure size 432x288 with 1 Axes>"
            ]
          },
          "metadata": {
            "tags": [],
            "needs_background": "light"
          }
        }
      ]
    },
    {
      "cell_type": "code",
      "metadata": {
        "id": "WTxCyPEhQHwi",
        "colab_type": "code",
        "outputId": "18ec356e-952b-49d8-f96c-1ed65af47f6d",
        "colab": {
          "base_uri": "https://localhost:8080/",
          "height": 647
        }
      },
      "source": [
        "##### line Plot\n",
        "x1 = [10,30,50,70,60]\n",
        "y1 = [40,80,70,79,30]\n",
        "x2 = [30,50,30,60.50]\n",
        "y2 = [20,30,40,50,60]\n",
        "plt.title(\"line Graph\",fontsize=12)\n",
        "plt.xlabel(\"Subjects\")\n",
        "plt.ylabel(\"Marks\")\n",
        "plt.plot(x1,y1,color=\"red\",label=\"Example 1\")\n",
        "plt.plot(x2,y2,color=\"blue\",label=\"Example 2\")\n",
        "plt.legend(loc=1)\n",
        "plt.show()"
      ],
      "execution_count": 0,
      "outputs": [
        {
          "output_type": "error",
          "ename": "ValueError",
          "evalue": "ignored",
          "traceback": [
            "\u001b[0;31m---------------------------------------------------------------------------\u001b[0m",
            "\u001b[0;31mValueError\u001b[0m                                Traceback (most recent call last)",
            "\u001b[0;32m<ipython-input-71-8d65ecb15248>\u001b[0m in \u001b[0;36m<module>\u001b[0;34m()\u001b[0m\n\u001b[1;32m      7\u001b[0m \u001b[0mplt\u001b[0m\u001b[0;34m.\u001b[0m\u001b[0mylabel\u001b[0m\u001b[0;34m(\u001b[0m\u001b[0;34m\"Marks\"\u001b[0m\u001b[0;34m)\u001b[0m\u001b[0;34m\u001b[0m\u001b[0;34m\u001b[0m\u001b[0m\n\u001b[1;32m      8\u001b[0m \u001b[0mplt\u001b[0m\u001b[0;34m.\u001b[0m\u001b[0mplot\u001b[0m\u001b[0;34m(\u001b[0m\u001b[0mx1\u001b[0m\u001b[0;34m,\u001b[0m\u001b[0my1\u001b[0m\u001b[0;34m,\u001b[0m\u001b[0mcolor\u001b[0m\u001b[0;34m=\u001b[0m\u001b[0;34m\"red\"\u001b[0m\u001b[0;34m,\u001b[0m\u001b[0mlabel\u001b[0m\u001b[0;34m=\u001b[0m\u001b[0;34m\"Example 1\"\u001b[0m\u001b[0;34m)\u001b[0m\u001b[0;34m\u001b[0m\u001b[0;34m\u001b[0m\u001b[0m\n\u001b[0;32m----> 9\u001b[0;31m \u001b[0mplt\u001b[0m\u001b[0;34m.\u001b[0m\u001b[0mplot\u001b[0m\u001b[0;34m(\u001b[0m\u001b[0mx2\u001b[0m\u001b[0;34m,\u001b[0m\u001b[0my2\u001b[0m\u001b[0;34m,\u001b[0m\u001b[0mcolor\u001b[0m\u001b[0;34m=\u001b[0m\u001b[0;34m\"blue\"\u001b[0m\u001b[0;34m,\u001b[0m\u001b[0mlabel\u001b[0m\u001b[0;34m=\u001b[0m\u001b[0;34m\"Example 2\"\u001b[0m\u001b[0;34m)\u001b[0m\u001b[0;34m\u001b[0m\u001b[0;34m\u001b[0m\u001b[0m\n\u001b[0m\u001b[1;32m     10\u001b[0m \u001b[0mplt\u001b[0m\u001b[0;34m.\u001b[0m\u001b[0mlegend\u001b[0m\u001b[0;34m(\u001b[0m\u001b[0mloc\u001b[0m\u001b[0;34m=\u001b[0m\u001b[0;36m1\u001b[0m\u001b[0;34m)\u001b[0m\u001b[0;34m\u001b[0m\u001b[0;34m\u001b[0m\u001b[0m\n\u001b[1;32m     11\u001b[0m \u001b[0mplt\u001b[0m\u001b[0;34m.\u001b[0m\u001b[0mshow\u001b[0m\u001b[0;34m(\u001b[0m\u001b[0;34m)\u001b[0m\u001b[0;34m\u001b[0m\u001b[0;34m\u001b[0m\u001b[0m\n",
            "\u001b[0;32m/usr/local/lib/python3.6/dist-packages/matplotlib/pyplot.py\u001b[0m in \u001b[0;36mplot\u001b[0;34m(scalex, scaley, data, *args, **kwargs)\u001b[0m\n\u001b[1;32m   2761\u001b[0m     return gca().plot(\n\u001b[1;32m   2762\u001b[0m         *args, scalex=scalex, scaley=scaley, **({\"data\": data} if data\n\u001b[0;32m-> 2763\u001b[0;31m         is not None else {}), **kwargs)\n\u001b[0m\u001b[1;32m   2764\u001b[0m \u001b[0;34m\u001b[0m\u001b[0m\n\u001b[1;32m   2765\u001b[0m \u001b[0;34m\u001b[0m\u001b[0m\n",
            "\u001b[0;32m/usr/local/lib/python3.6/dist-packages/matplotlib/axes/_axes.py\u001b[0m in \u001b[0;36mplot\u001b[0;34m(self, scalex, scaley, data, *args, **kwargs)\u001b[0m\n\u001b[1;32m   1644\u001b[0m         \"\"\"\n\u001b[1;32m   1645\u001b[0m         \u001b[0mkwargs\u001b[0m \u001b[0;34m=\u001b[0m \u001b[0mcbook\u001b[0m\u001b[0;34m.\u001b[0m\u001b[0mnormalize_kwargs\u001b[0m\u001b[0;34m(\u001b[0m\u001b[0mkwargs\u001b[0m\u001b[0;34m,\u001b[0m \u001b[0mmlines\u001b[0m\u001b[0;34m.\u001b[0m\u001b[0mLine2D\u001b[0m\u001b[0;34m)\u001b[0m\u001b[0;34m\u001b[0m\u001b[0;34m\u001b[0m\u001b[0m\n\u001b[0;32m-> 1646\u001b[0;31m         \u001b[0mlines\u001b[0m \u001b[0;34m=\u001b[0m \u001b[0;34m[\u001b[0m\u001b[0;34m*\u001b[0m\u001b[0mself\u001b[0m\u001b[0;34m.\u001b[0m\u001b[0m_get_lines\u001b[0m\u001b[0;34m(\u001b[0m\u001b[0;34m*\u001b[0m\u001b[0margs\u001b[0m\u001b[0;34m,\u001b[0m \u001b[0mdata\u001b[0m\u001b[0;34m=\u001b[0m\u001b[0mdata\u001b[0m\u001b[0;34m,\u001b[0m \u001b[0;34m**\u001b[0m\u001b[0mkwargs\u001b[0m\u001b[0;34m)\u001b[0m\u001b[0;34m]\u001b[0m\u001b[0;34m\u001b[0m\u001b[0;34m\u001b[0m\u001b[0m\n\u001b[0m\u001b[1;32m   1647\u001b[0m         \u001b[0;32mfor\u001b[0m \u001b[0mline\u001b[0m \u001b[0;32min\u001b[0m \u001b[0mlines\u001b[0m\u001b[0;34m:\u001b[0m\u001b[0;34m\u001b[0m\u001b[0;34m\u001b[0m\u001b[0m\n\u001b[1;32m   1648\u001b[0m             \u001b[0mself\u001b[0m\u001b[0;34m.\u001b[0m\u001b[0madd_line\u001b[0m\u001b[0;34m(\u001b[0m\u001b[0mline\u001b[0m\u001b[0;34m)\u001b[0m\u001b[0;34m\u001b[0m\u001b[0;34m\u001b[0m\u001b[0m\n",
            "\u001b[0;32m/usr/local/lib/python3.6/dist-packages/matplotlib/axes/_base.py\u001b[0m in \u001b[0;36m__call__\u001b[0;34m(self, *args, **kwargs)\u001b[0m\n\u001b[1;32m    214\u001b[0m                 \u001b[0mthis\u001b[0m \u001b[0;34m+=\u001b[0m \u001b[0margs\u001b[0m\u001b[0;34m[\u001b[0m\u001b[0;36m0\u001b[0m\u001b[0;34m]\u001b[0m\u001b[0;34m,\u001b[0m\u001b[0;34m\u001b[0m\u001b[0;34m\u001b[0m\u001b[0m\n\u001b[1;32m    215\u001b[0m                 \u001b[0margs\u001b[0m \u001b[0;34m=\u001b[0m \u001b[0margs\u001b[0m\u001b[0;34m[\u001b[0m\u001b[0;36m1\u001b[0m\u001b[0;34m:\u001b[0m\u001b[0;34m]\u001b[0m\u001b[0;34m\u001b[0m\u001b[0;34m\u001b[0m\u001b[0m\n\u001b[0;32m--> 216\u001b[0;31m             \u001b[0;32myield\u001b[0m \u001b[0;32mfrom\u001b[0m \u001b[0mself\u001b[0m\u001b[0;34m.\u001b[0m\u001b[0m_plot_args\u001b[0m\u001b[0;34m(\u001b[0m\u001b[0mthis\u001b[0m\u001b[0;34m,\u001b[0m \u001b[0mkwargs\u001b[0m\u001b[0;34m)\u001b[0m\u001b[0;34m\u001b[0m\u001b[0;34m\u001b[0m\u001b[0m\n\u001b[0m\u001b[1;32m    217\u001b[0m \u001b[0;34m\u001b[0m\u001b[0m\n\u001b[1;32m    218\u001b[0m     \u001b[0;32mdef\u001b[0m \u001b[0mget_next_color\u001b[0m\u001b[0;34m(\u001b[0m\u001b[0mself\u001b[0m\u001b[0;34m)\u001b[0m\u001b[0;34m:\u001b[0m\u001b[0;34m\u001b[0m\u001b[0;34m\u001b[0m\u001b[0m\n",
            "\u001b[0;32m/usr/local/lib/python3.6/dist-packages/matplotlib/axes/_base.py\u001b[0m in \u001b[0;36m_plot_args\u001b[0;34m(self, tup, kwargs)\u001b[0m\n\u001b[1;32m    340\u001b[0m \u001b[0;34m\u001b[0m\u001b[0m\n\u001b[1;32m    341\u001b[0m         \u001b[0;32mif\u001b[0m \u001b[0mx\u001b[0m\u001b[0;34m.\u001b[0m\u001b[0mshape\u001b[0m\u001b[0;34m[\u001b[0m\u001b[0;36m0\u001b[0m\u001b[0;34m]\u001b[0m \u001b[0;34m!=\u001b[0m \u001b[0my\u001b[0m\u001b[0;34m.\u001b[0m\u001b[0mshape\u001b[0m\u001b[0;34m[\u001b[0m\u001b[0;36m0\u001b[0m\u001b[0;34m]\u001b[0m\u001b[0;34m:\u001b[0m\u001b[0;34m\u001b[0m\u001b[0;34m\u001b[0m\u001b[0m\n\u001b[0;32m--> 342\u001b[0;31m             raise ValueError(f\"x and y must have same first dimension, but \"\n\u001b[0m\u001b[1;32m    343\u001b[0m                              f\"have shapes {x.shape} and {y.shape}\")\n\u001b[1;32m    344\u001b[0m         \u001b[0;32mif\u001b[0m \u001b[0mx\u001b[0m\u001b[0;34m.\u001b[0m\u001b[0mndim\u001b[0m \u001b[0;34m>\u001b[0m \u001b[0;36m2\u001b[0m \u001b[0;32mor\u001b[0m \u001b[0my\u001b[0m\u001b[0;34m.\u001b[0m\u001b[0mndim\u001b[0m \u001b[0;34m>\u001b[0m \u001b[0;36m2\u001b[0m\u001b[0;34m:\u001b[0m\u001b[0;34m\u001b[0m\u001b[0;34m\u001b[0m\u001b[0m\n",
            "\u001b[0;31mValueError\u001b[0m: x and y must have same first dimension, but have shapes (4,) and (5,)"
          ]
        },
        {
          "output_type": "display_data",
          "data": {
            "image/png": "[encoded data removed]",
            "text/plain": [
              "<Figure size 432x288 with 1 Axes>"
            ]
          },
          "metadata": {
            "tags": [],
            "needs_background": "light"
          }
        }
      ]
    },
    {
      "cell_type": "code",
      "metadata": {
        "id": "QKDjoJlsQHkl",
        "colab_type": "code",
        "outputId": "4ce76cff-7e42-4a36-8fa3-85e4b034d5eb",
        "colab": {
          "base_uri": "https://localhost:8080/",
          "height": 295
        }
      },
      "source": [
        "#### Line Plot\n",
        "x1 = [10,20,30,40,50]\n",
        "y1 = [40,80,70,79,30]\n",
        "x2 = [23,45,34,78,90]\n",
        "y2 = [20,30,40,50,60]\n",
        "plt.title(\"Line Plot\",fontsize=12)\n",
        "plt.xlabel(\"X Axis\")\n",
        "plt.ylabel(\"Y Axis\")\n",
        "plt.plot(x1,y1,color=\"red\",label=\"Example 1\")\n",
        "plt.plot(x2,y2,color=\"blue\",label=\"Example 2\")\n",
        "plt.legend(loc=1)\n",
        "plt.show()"
      ],
      "execution_count": 0,
      "outputs": [
        {
          "output_type": "display_data",
          "data": {
            "image/png": "[encoded data removed]",
            "text/plain": [
              "<Figure size 432x288 with 1 Axes>"
            ]
          },
          "metadata": {
            "tags": [],
            "needs_background": "light"
          }
        }
      ]
    },
    {
      "cell_type": "code",
      "metadata": {
        "id": "JATbE6hMUNUe",
        "colab_type": "code",
        "outputId": "f3222baa-c222-4c51-f929-69a3d220ba6d",
        "colab": {
          "base_uri": "https://localhost:8080/",
          "height": 295
        }
      },
      "source": [
        "#### Scatter Plot\n",
        "x1 = [10,20,30,40,50]\n",
        "y1 = [40,80,70,79,30]\n",
        "x2 = [23,45,34,78,90]\n",
        "y2 = [20,30,40,50,60]\n",
        "plt.title(\"Line Plot\",fontsize=12)\n",
        "plt.xlabel(\"X Axis\")\n",
        "plt.ylabel(\"Y Axis\")\n",
        "plt.scatter(x1,y1,color=\"red\",label=\"Example 1\",s=200)\n",
        "plt.scatter(x2,y2,color=\"blue\",label=\"Example 2\",s=200,marker=\"*\")\n",
        "plt.plot(x1,y1,color=\"blue\")\n",
        "plt.plot(x2,y2,color=\"red\")\n",
        "plt.legend(loc=1)\n",
        "plt.show()"
      ],
      "execution_count": 0,
      "outputs": [
        {
          "output_type": "display_data",
          "data": {
            "image/png": "[encoded data removed]",
            "text/plain": [
              "<Figure size 432x288 with 1 Axes>"
            ]
          },
          "metadata": {
            "tags": [],
            "needs_background": "light"
          }
        }
      ]
    },
    {
      "cell_type": "code",
      "metadata": {
        "id": "k_THjQYbU8Eo",
        "colab_type": "code",
        "outputId": "0f19988e-3860-4223-c633-d03f01d424b9",
        "colab": {
          "base_uri": "https://localhost:8080/",
          "height": 482
        }
      },
      "source": [
        "#### Pie Chart\n",
        "plt.figure(figsize=(8,8))\n",
        "slices = [100,20,9,80,56]\n",
        "act = [\"Playing\",\"Sleeping\",\"Reading\",\"Cooking\",\"Eating\"]\n",
        "cols = [\"red\",\"blue\",\"cyan\",\"pink\",\"yellow\"]\n",
        "plt.pie(slices,labels=act,colors=cols,explode=(0,0.2,0,0,0),\n",
        "        autopct=\"%1.2f%%\")\n",
        "plt.show()\n",
        "plt.savefig('image.png')"
      ],
      "execution_count": 0,
      "outputs": [
        {
          "output_type": "display_data",
          "data": {
            "image/png": "[encoded data removed]",
            "text/plain": [
              "<Figure size 576x576 with 1 Axes>"
            ]
          },
          "metadata": {
            "tags": []
          }
        },
        {
          "output_type": "display_data",
          "data": {
            "text/plain": [
              "<Figure size 432x288 with 0 Axes>"
            ]
          },
          "metadata": {
            "tags": []
          }
        }
      ]
    },
    {
      "cell_type": "code",
      "metadata": {
        "id": "PJ0vNAPZVu_v",
        "colab_type": "code",
        "outputId": "ece4a10c-c9ed-4a6f-8b70-e0912c6d040e",
        "colab": {
          "base_uri": "https://localhost:8080/",
          "height": 265
        }
      },
      "source": [
        "## Histogram\n",
        "data=np.random.randint(10,100,20)\n",
        "plt.hist(data,rwidth=0.7)\n",
        "plt.show()"
      ],
      "execution_count": 0,
      "outputs": [
        {
          "output_type": "display_data",
          "data": {
            "image/png": "[encoded data removed]",
            "text/plain": [
              "<Figure size 432x288 with 1 Axes>"
            ]
          },
          "metadata": {
            "tags": [],
            "needs_background": "light"
          }
        }
      ]
    },
    {
      "cell_type": "code",
      "metadata": {
        "id": "DOlyr_QtVu8c",
        "colab_type": "code",
        "outputId": "072c475a-fcbc-4812-c3ab-53d2c23a4466",
        "colab": {
          "base_uri": "https://localhost:8080/",
          "height": 50
        }
      },
      "source": [
        "data"
      ],
      "execution_count": 0,
      "outputs": [
        {
          "output_type": "execute_result",
          "data": {
            "text/plain": [
              "array([99, 52, 18, 49, 78, 58, 17, 54, 10, 85, 65, 16, 29, 70, 54, 73, 79,\n",
              "       66, 34, 65])"
            ]
          },
          "metadata": {
            "tags": []
          },
          "execution_count": 76
        }
      ]
    },
    {
      "cell_type": "code",
      "metadata": {
        "id": "6HyRgyukVu0J",
        "colab_type": "code",
        "outputId": "8acfbabe-5795-4f85-a462-389083d8aafb",
        "colab": {
          "base_uri": "https://localhost:8080/",
          "height": 120
        }
      },
      "source": [
        "from google.colab import drive\n",
        "drive.mount('/content/drive')"
      ],
      "execution_count": 0,
      "outputs": [
        {
          "output_type": "stream",
          "text": [
            "Go to this URL in a browser: https://accounts.google.com/o/oauth2/auth?client_id=947318989803-6bn6qk8qdgf4n4g3pfee6491hc0brc4i.apps.googleusercontent.com&redirect_uri=urn%3aietf%3awg%3aoauth%3a2.0%3aoob&response_type=code&scope=email%20https%3a%2f%2fwww.googleapis.com%2fauth%2fdocs.test%20https%3a%2f%2fwww.googleapis.com%2fauth%2fdrive%20https%3a%2f%2fwww.googleapis.com%2fauth%2fdrive.photos.readonly%20https%3a%2f%2fwww.googleapis.com%2fauth%2fpeopleapi.readonly\n",
            "\n",
            "Enter your authorization code:\n",
            "··········\n",
            "Mounted at /content/drive\n"
          ],
          "name": "stdout"
        }
      ]
    }
  ]
}